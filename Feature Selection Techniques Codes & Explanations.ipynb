{
 "cells": [
  {
   "cell_type": "markdown",
   "metadata": {},
   "source": [
    "# APPLYING  SUBSET SELECTION FOR LINEAR REGRESSION AND\n",
    "# SHRINKAGE METHODS ON HAPPINESS DATASET"
   ]
  },
  {
   "cell_type": "markdown",
   "metadata": {},
   "source": [
    "## INDEX\n",
    "\n",
    "#### 1. SUMMARY OF THE DATASET\n",
    "#### 2. DATA EXPLORATION\n",
    "#### 3. SUBSET SELECTION FOR LINEAR REGREESION\n",
    "##### 3.1. BEST SUBSET SELECTION\n",
    "##### 3.2. STEPWISE SELECTION\n",
    "        3.2.1. FORWARD SELECTION\n",
    "        3.2.2. BACKWARD SELECTION\n",
    "##### 3.3. SHRINKAGE METHODS\n",
    "        3.3.1. RIDGE REGRESSION\n",
    "        3.3.2. THE LASSO    \n",
    "#### 4. CHOOSING THE BEST MODEL AND FINAL EXPLANATION"
   ]
  },
  {
   "cell_type": "markdown",
   "metadata": {},
   "source": [
    "## 1. SUMMARY OF THE DATASET\n",
    "\n",
    "For clustering, we used 2019 World Happiness Report dataset which is a survey of the state of global happiness taken from the Gallup World Poll. In total we have 8 features to compare.\n",
    "\n",
    "**Country** : Name of the countries attended the survey.\n",
    "\n",
    "**Happiness score** :  The final  scores that estimate the extent of six happiness factors below. \n",
    "\n",
    "**GDP per capita**: GDP per capita is a measure of a country's economic output that accounts for its number of people.\n",
    "\n",
    "**Social support**: Social support means having friends and other people, including family, to turn to in times of need or crisis to give you a broader focus and positive self-image. Social support enhances quality of life and provides a buffer against adverse life events.\n",
    "\n",
    "**Healthy life expectancy**: Healthy Life Expectancy is the average number of years that a newborn can expect to live in \"full health\"—in other words, not hampered by disabling illnesses or injuries.\n",
    "\n",
    "**Freedom to make life choices**: Freedom of choice describes an individual's opportunity and autonomy to perform an action selected from at least two available options, unconstrained by external parties.\n",
    "\n",
    "**Generosity**: The quality of being kind and generous.\n",
    "\n",
    "**Perceptions of corruption**: The Corruption Perceptions Index (CPI) is an index published annually by Transparency International since 1995 which ranks countries \"by their perceived levels of public sector corruption, as determined by expert assessments and opinion surveys."
   ]
  },
  {
   "cell_type": "markdown",
   "metadata": {},
   "source": [
    "## 2. DATA EXPLORATION"
   ]
  },
  {
   "cell_type": "code",
   "execution_count": 1,
   "metadata": {},
   "outputs": [],
   "source": [
    "# To begin the process, the modules that will be used during analysis must be imported first.\n",
    "\n",
    "import numpy as np\n",
    "import pandas as pd\n",
    "from sklearn.linear_model import LogisticRegression\n",
    "from sklearn.metrics import mean_squared_error\n",
    "from sklearn.model_selection import cross_val_score\n",
    "from sklearn.model_selection import KFold\n",
    "from sklearn.neighbors import KNeighborsRegressor\n",
    "from mlxtend.feature_selection import ExhaustiveFeatureSelector as EFS\n",
    "np.random.seed(0)"
   ]
  },
  {
   "cell_type": "code",
   "execution_count": 2,
   "metadata": {},
   "outputs": [
    {
     "data": {
      "text/html": [
       "<div>\n",
       "<style scoped>\n",
       "    .dataframe tbody tr th:only-of-type {\n",
       "        vertical-align: middle;\n",
       "    }\n",
       "\n",
       "    .dataframe tbody tr th {\n",
       "        vertical-align: top;\n",
       "    }\n",
       "\n",
       "    .dataframe thead th {\n",
       "        text-align: right;\n",
       "    }\n",
       "</style>\n",
       "<table border=\"1\" class=\"dataframe\">\n",
       "  <thead>\n",
       "    <tr style=\"text-align: right;\">\n",
       "      <th></th>\n",
       "      <th>Overall rank</th>\n",
       "      <th>Country</th>\n",
       "      <th>Happiness Score</th>\n",
       "      <th>GDP per capita</th>\n",
       "      <th>Social support</th>\n",
       "      <th>Healthy life expectancy</th>\n",
       "      <th>Freedom to make life choices</th>\n",
       "      <th>Generosity</th>\n",
       "      <th>Perceptions of corruption</th>\n",
       "    </tr>\n",
       "  </thead>\n",
       "  <tbody>\n",
       "    <tr>\n",
       "      <th>0</th>\n",
       "      <td>1</td>\n",
       "      <td>Finland</td>\n",
       "      <td>7.769</td>\n",
       "      <td>1.340</td>\n",
       "      <td>1.587</td>\n",
       "      <td>0.986</td>\n",
       "      <td>0.596</td>\n",
       "      <td>0.153</td>\n",
       "      <td>0.393</td>\n",
       "    </tr>\n",
       "    <tr>\n",
       "      <th>1</th>\n",
       "      <td>2</td>\n",
       "      <td>Denmark</td>\n",
       "      <td>7.600</td>\n",
       "      <td>1.383</td>\n",
       "      <td>1.573</td>\n",
       "      <td>0.996</td>\n",
       "      <td>0.592</td>\n",
       "      <td>0.252</td>\n",
       "      <td>0.410</td>\n",
       "    </tr>\n",
       "    <tr>\n",
       "      <th>2</th>\n",
       "      <td>3</td>\n",
       "      <td>Norway</td>\n",
       "      <td>7.554</td>\n",
       "      <td>1.488</td>\n",
       "      <td>1.582</td>\n",
       "      <td>1.028</td>\n",
       "      <td>0.603</td>\n",
       "      <td>0.271</td>\n",
       "      <td>0.341</td>\n",
       "    </tr>\n",
       "    <tr>\n",
       "      <th>3</th>\n",
       "      <td>4</td>\n",
       "      <td>Iceland</td>\n",
       "      <td>7.494</td>\n",
       "      <td>1.380</td>\n",
       "      <td>1.624</td>\n",
       "      <td>1.026</td>\n",
       "      <td>0.591</td>\n",
       "      <td>0.354</td>\n",
       "      <td>0.118</td>\n",
       "    </tr>\n",
       "    <tr>\n",
       "      <th>4</th>\n",
       "      <td>5</td>\n",
       "      <td>Netherlands</td>\n",
       "      <td>7.488</td>\n",
       "      <td>1.396</td>\n",
       "      <td>1.522</td>\n",
       "      <td>0.999</td>\n",
       "      <td>0.557</td>\n",
       "      <td>0.322</td>\n",
       "      <td>0.298</td>\n",
       "    </tr>\n",
       "  </tbody>\n",
       "</table>\n",
       "</div>"
      ],
      "text/plain": [
       "   Overall rank      Country  Happiness Score  GDP per capita  Social support  \\\n",
       "0             1      Finland            7.769           1.340           1.587   \n",
       "1             2      Denmark            7.600           1.383           1.573   \n",
       "2             3       Norway            7.554           1.488           1.582   \n",
       "3             4      Iceland            7.494           1.380           1.624   \n",
       "4             5  Netherlands            7.488           1.396           1.522   \n",
       "\n",
       "   Healthy life expectancy  Freedom to make life choices  Generosity  \\\n",
       "0                    0.986                         0.596       0.153   \n",
       "1                    0.996                         0.592       0.252   \n",
       "2                    1.028                         0.603       0.271   \n",
       "3                    1.026                         0.591       0.354   \n",
       "4                    0.999                         0.557       0.322   \n",
       "\n",
       "   Perceptions of corruption  \n",
       "0                      0.393  \n",
       "1                      0.410  \n",
       "2                      0.341  \n",
       "3                      0.118  \n",
       "4                      0.298  "
      ]
     },
     "execution_count": 2,
     "metadata": {},
     "output_type": "execute_result"
    }
   ],
   "source": [
    "# Then, response variable must be shown and independent variable must be created.\n",
    "\n",
    "df= pd.read_csv(\"happiness.csv\")\n",
    "df.head()"
   ]
  },
  {
   "cell_type": "code",
   "execution_count": 3,
   "metadata": {},
   "outputs": [
    {
     "data": {
      "text/plain": [
       "(156, 9)"
      ]
     },
     "execution_count": 3,
     "metadata": {},
     "output_type": "execute_result"
    }
   ],
   "source": [
    "# Dimension of the dataframe interpreted.\n",
    "df.shape"
   ]
  },
  {
   "cell_type": "code",
   "execution_count": 4,
   "metadata": {},
   "outputs": [
    {
     "data": {
      "text/plain": [
       "Overall rank                    156\n",
       "Country                         156\n",
       "Happiness Score                 155\n",
       "GDP per capita                  146\n",
       "Social support                  145\n",
       "Healthy life expectancy         119\n",
       "Freedom to make life choices    130\n",
       "Generosity                      118\n",
       "Perceptions of corruption       113\n",
       "dtype: int64"
      ]
     },
     "execution_count": 4,
     "metadata": {},
     "output_type": "execute_result"
    }
   ],
   "source": [
    "# This code will show how many different outputs do x variables have\n",
    "df.nunique()"
   ]
  },
  {
   "cell_type": "code",
   "execution_count": 5,
   "metadata": {},
   "outputs": [
    {
     "data": {
      "text/plain": [
       "Overall rank                    0\n",
       "Country                         0\n",
       "Happiness Score                 0\n",
       "GDP per capita                  0\n",
       "Social support                  0\n",
       "Healthy life expectancy         0\n",
       "Freedom to make life choices    0\n",
       "Generosity                      0\n",
       "Perceptions of corruption       0\n",
       "dtype: int64"
      ]
     },
     "execution_count": 5,
     "metadata": {},
     "output_type": "execute_result"
    }
   ],
   "source": [
    "# Checking if there is any missing value in dataset\n",
    "df.isnull().sum()"
   ]
  },
  {
   "cell_type": "code",
   "execution_count": 6,
   "metadata": {},
   "outputs": [
    {
     "data": {
      "text/html": [
       "<div>\n",
       "<style scoped>\n",
       "    .dataframe tbody tr th:only-of-type {\n",
       "        vertical-align: middle;\n",
       "    }\n",
       "\n",
       "    .dataframe tbody tr th {\n",
       "        vertical-align: top;\n",
       "    }\n",
       "\n",
       "    .dataframe thead th {\n",
       "        text-align: right;\n",
       "    }\n",
       "</style>\n",
       "<table border=\"1\" class=\"dataframe\">\n",
       "  <thead>\n",
       "    <tr style=\"text-align: right;\">\n",
       "      <th></th>\n",
       "      <th>GDP per capita</th>\n",
       "      <th>Social support</th>\n",
       "      <th>Healthy life expectancy</th>\n",
       "      <th>Freedom to make life choices</th>\n",
       "      <th>Generosity</th>\n",
       "      <th>Perceptions of corruption</th>\n",
       "    </tr>\n",
       "  </thead>\n",
       "  <tbody>\n",
       "    <tr>\n",
       "      <th>0</th>\n",
       "      <td>1.340</td>\n",
       "      <td>1.587</td>\n",
       "      <td>0.986</td>\n",
       "      <td>0.596</td>\n",
       "      <td>0.153</td>\n",
       "      <td>0.393</td>\n",
       "    </tr>\n",
       "    <tr>\n",
       "      <th>1</th>\n",
       "      <td>1.383</td>\n",
       "      <td>1.573</td>\n",
       "      <td>0.996</td>\n",
       "      <td>0.592</td>\n",
       "      <td>0.252</td>\n",
       "      <td>0.410</td>\n",
       "    </tr>\n",
       "    <tr>\n",
       "      <th>2</th>\n",
       "      <td>1.488</td>\n",
       "      <td>1.582</td>\n",
       "      <td>1.028</td>\n",
       "      <td>0.603</td>\n",
       "      <td>0.271</td>\n",
       "      <td>0.341</td>\n",
       "    </tr>\n",
       "    <tr>\n",
       "      <th>3</th>\n",
       "      <td>1.380</td>\n",
       "      <td>1.624</td>\n",
       "      <td>1.026</td>\n",
       "      <td>0.591</td>\n",
       "      <td>0.354</td>\n",
       "      <td>0.118</td>\n",
       "    </tr>\n",
       "    <tr>\n",
       "      <th>4</th>\n",
       "      <td>1.396</td>\n",
       "      <td>1.522</td>\n",
       "      <td>0.999</td>\n",
       "      <td>0.557</td>\n",
       "      <td>0.322</td>\n",
       "      <td>0.298</td>\n",
       "    </tr>\n",
       "    <tr>\n",
       "      <th>...</th>\n",
       "      <td>...</td>\n",
       "      <td>...</td>\n",
       "      <td>...</td>\n",
       "      <td>...</td>\n",
       "      <td>...</td>\n",
       "      <td>...</td>\n",
       "    </tr>\n",
       "    <tr>\n",
       "      <th>151</th>\n",
       "      <td>0.359</td>\n",
       "      <td>0.711</td>\n",
       "      <td>0.614</td>\n",
       "      <td>0.555</td>\n",
       "      <td>0.217</td>\n",
       "      <td>0.411</td>\n",
       "    </tr>\n",
       "    <tr>\n",
       "      <th>152</th>\n",
       "      <td>0.476</td>\n",
       "      <td>0.885</td>\n",
       "      <td>0.499</td>\n",
       "      <td>0.417</td>\n",
       "      <td>0.276</td>\n",
       "      <td>0.147</td>\n",
       "    </tr>\n",
       "    <tr>\n",
       "      <th>153</th>\n",
       "      <td>0.350</td>\n",
       "      <td>0.517</td>\n",
       "      <td>0.361</td>\n",
       "      <td>0.000</td>\n",
       "      <td>0.158</td>\n",
       "      <td>0.025</td>\n",
       "    </tr>\n",
       "    <tr>\n",
       "      <th>154</th>\n",
       "      <td>0.026</td>\n",
       "      <td>0.000</td>\n",
       "      <td>0.105</td>\n",
       "      <td>0.225</td>\n",
       "      <td>0.235</td>\n",
       "      <td>0.035</td>\n",
       "    </tr>\n",
       "    <tr>\n",
       "      <th>155</th>\n",
       "      <td>0.306</td>\n",
       "      <td>0.575</td>\n",
       "      <td>0.295</td>\n",
       "      <td>0.010</td>\n",
       "      <td>0.202</td>\n",
       "      <td>0.091</td>\n",
       "    </tr>\n",
       "  </tbody>\n",
       "</table>\n",
       "<p>156 rows × 6 columns</p>\n",
       "</div>"
      ],
      "text/plain": [
       "     GDP per capita  Social support  Healthy life expectancy  \\\n",
       "0             1.340           1.587                    0.986   \n",
       "1             1.383           1.573                    0.996   \n",
       "2             1.488           1.582                    1.028   \n",
       "3             1.380           1.624                    1.026   \n",
       "4             1.396           1.522                    0.999   \n",
       "..              ...             ...                      ...   \n",
       "151           0.359           0.711                    0.614   \n",
       "152           0.476           0.885                    0.499   \n",
       "153           0.350           0.517                    0.361   \n",
       "154           0.026           0.000                    0.105   \n",
       "155           0.306           0.575                    0.295   \n",
       "\n",
       "     Freedom to make life choices  Generosity  Perceptions of corruption  \n",
       "0                           0.596       0.153                      0.393  \n",
       "1                           0.592       0.252                      0.410  \n",
       "2                           0.603       0.271                      0.341  \n",
       "3                           0.591       0.354                      0.118  \n",
       "4                           0.557       0.322                      0.298  \n",
       "..                            ...         ...                        ...  \n",
       "151                         0.555       0.217                      0.411  \n",
       "152                         0.417       0.276                      0.147  \n",
       "153                         0.000       0.158                      0.025  \n",
       "154                         0.225       0.235                      0.035  \n",
       "155                         0.010       0.202                      0.091  \n",
       "\n",
       "[156 rows x 6 columns]"
      ]
     },
     "execution_count": 6,
     "metadata": {},
     "output_type": "execute_result"
    }
   ],
   "source": [
    "# Defining and dropping response variable which is \"Happiness Score\"\n",
    "# Furthermore, \"Overall rank\" and \"Country\" variables must be dropped either, \n",
    "# since it is not needed to identify them as independent variables.\n",
    "\n",
    "y = df[\"Happiness Score\"]\n",
    "x = df.drop(columns=[\"Happiness Score\", \"Overall rank\", \"Country\"])\n",
    "x"
   ]
  },
  {
   "cell_type": "code",
   "execution_count": 7,
   "metadata": {},
   "outputs": [],
   "source": [
    "#Then, dataset must be splitted into training an test sets\n",
    "# Here, test size proportion was chosen as 0.2\n",
    "from sklearn.model_selection import train_test_split\n",
    "x_train, x_test, y_train, y_test = train_test_split(x, y, test_size = 0.2, random_state = 1)"
   ]
  },
  {
   "cell_type": "code",
   "execution_count": 8,
   "metadata": {},
   "outputs": [
    {
     "data": {
      "text/plain": [
       "0    7.769\n",
       "1    7.600\n",
       "2    7.554\n",
       "3    7.494\n",
       "4    7.488\n",
       "Name: Happiness Score, dtype: float64"
      ]
     },
     "execution_count": 8,
     "metadata": {},
     "output_type": "execute_result"
    }
   ],
   "source": [
    "# According to the response variables, it has decided as \"regression must be applied\".\n",
    "y.head()"
   ]
  },
  {
   "cell_type": "markdown",
   "metadata": {},
   "source": [
    "## 3. SUBSET SELECTION FOR LINEAR REGRESSION"
   ]
  },
  {
   "cell_type": "markdown",
   "metadata": {},
   "source": [
    "## 3.1. BEST SUBSET SELECTION"
   ]
  },
  {
   "cell_type": "code",
   "execution_count": 9,
   "metadata": {},
   "outputs": [
    {
     "name": "stderr",
     "output_type": "stream",
     "text": [
      "Features: 63/63"
     ]
    },
    {
     "name": "stdout",
     "output_type": "stream",
     "text": [
      "Best MSE score: 0.33\n",
      "Best subset: (0, 1, 2, 3, 5)\n",
      "Best subset (corresponding names): ('GDP per capita', 'Social support', 'Healthy life expectancy', 'Freedom to make life choices', 'Perceptions of corruption')\n"
     ]
    }
   ],
   "source": [
    "# Fitting 2**p subsets, and than sort these subsets according to their scores.\n",
    "# Then, choosing the best subset with the minimum Mean Squared Error score, since MSE is chosen as error detection method.\n",
    "# Dataset has 6 active independent,x, variables. Hence, min_features was selected as 1 and max_features was selected as 6.\n",
    "# Also feature names are identified to correspond with their values.\n",
    "\n",
    "from mlxtend.feature_selection import ExhaustiveFeatureSelector as EFS\n",
    "from sklearn.linear_model import LinearRegression\n",
    "from sklearn.metrics import mean_squared_error\n",
    "\n",
    "linear_model = LinearRegression()\n",
    "\n",
    "efs = EFS(linear_model,\n",
    "          min_features = 1,\n",
    "          max_features = 6,\n",
    "          scoring=\"neg_mean_squared_error\",\n",
    "          print_progress = True,\n",
    "          cv=5)\n",
    "\n",
    "feature_names = (\"GDP per capita\", \"Social support\", \"Healthy life expectancy\", \"Freedom to make life choices\", \n",
    "                 \"Generosity\", \"Perceptions of corruption\")\n",
    "\n",
    "efs.fit(x_train, y_train, custom_feature_names = feature_names)\n",
    "efs.best_score = (-1)*efs.best_score_\n",
    "\n",
    "print(\"Best MSE score: %.2f\" % (efs.best_score_*(-1)))\n",
    "print(\"Best subset:\", efs.best_idx_)\n",
    "print(\"Best subset (corresponding names):\", efs.best_feature_names_)"
   ]
  },
  {
   "cell_type": "code",
   "execution_count": 10,
   "metadata": {},
   "outputs": [
    {
     "data": {
      "text/plain": [
       "{0: {'feature_idx': (0,),\n",
       "  'cv_scores': array([-0.4672812 , -0.6017266 , -0.38106414, -0.62313917, -0.46584783]),\n",
       "  'avg_score': -0.5078117868387727,\n",
       "  'feature_names': ('GDP per capita',)},\n",
       " 1: {'feature_idx': (1,),\n",
       "  'cv_scores': array([-0.33601961, -0.45279565, -0.54984932, -0.62005357, -0.65505527]),\n",
       "  'avg_score': -0.5227546867529144,\n",
       "  'feature_names': ('Social support',)},\n",
       " 2: {'feature_idx': (2,),\n",
       "  'cv_scores': array([-0.3698855 , -0.61823301, -0.49484398, -0.54980532, -0.55721215]),\n",
       "  'avg_score': -0.517995993150363,\n",
       "  'feature_names': ('Healthy life expectancy',)},\n",
       " 3: {'feature_idx': (3,),\n",
       "  'cv_scores': array([-0.59156199, -0.81157017, -1.11632714, -0.80711048, -1.06225665]),\n",
       "  'avg_score': -0.8777652864904407,\n",
       "  'feature_names': ('Freedom to make life choices',)},\n",
       " 4: {'feature_idx': (4,),\n",
       "  'cv_scores': array([-1.03376026, -1.25840488, -1.35815447, -1.68864925, -1.16426297]),\n",
       "  'avg_score': -1.3006463645679351,\n",
       "  'feature_names': ('Generosity',)},\n",
       " 5: {'feature_idx': (5,),\n",
       "  'cv_scores': array([-0.9739154 , -0.84822716, -1.45625378, -1.25147151, -1.0596186 ]),\n",
       "  'avg_score': -1.1178972916529815,\n",
       "  'feature_names': ('Perceptions of corruption',)},\n",
       " 6: {'feature_idx': (0, 1),\n",
       "  'cv_scores': array([-0.31919742, -0.40340413, -0.37615391, -0.47867039, -0.5025237 ]),\n",
       "  'avg_score': -0.41598991033506066,\n",
       "  'feature_names': ('GDP per capita', 'Social support')},\n",
       " 7: {'feature_idx': (0, 2),\n",
       "  'cv_scores': array([-0.37766986, -0.55746737, -0.3536718 , -0.52563072, -0.39883759]),\n",
       "  'avg_score': -0.4426554675582521,\n",
       "  'feature_names': ('GDP per capita', 'Healthy life expectancy')},\n",
       " 8: {'feature_idx': (0, 3),\n",
       "  'cv_scores': array([-0.33941742, -0.40622633, -0.35995223, -0.45705502, -0.5072423 ]),\n",
       "  'avg_score': -0.4139786581452092,\n",
       "  'feature_names': ('GDP per capita', 'Freedom to make life choices')},\n",
       " 9: {'feature_idx': (0, 4),\n",
       "  'cv_scores': array([-0.46343728, -0.57360466, -0.40126622, -0.56155024, -0.47303321]),\n",
       "  'avg_score': -0.4945783221475499,\n",
       "  'feature_names': ('GDP per capita', 'Generosity')},\n",
       " 10: {'feature_idx': (0, 5),\n",
       "  'cv_scores': array([-0.46443965, -0.52961577, -0.45423231, -0.56869006, -0.41123865]),\n",
       "  'avg_score': -0.485643287302927,\n",
       "  'feature_names': ('GDP per capita', 'Perceptions of corruption')},\n",
       " 11: {'feature_idx': (1, 2),\n",
       "  'cv_scores': array([-0.28108414, -0.43010501, -0.39264709, -0.4277169 , -0.47709783]),\n",
       "  'avg_score': -0.4017301937078551,\n",
       "  'feature_names': ('Social support', 'Healthy life expectancy')},\n",
       " 12: {'feature_idx': (1, 3),\n",
       "  'cv_scores': array([-0.32025423, -0.3619127 , -0.51103455, -0.45391869, -0.58705509]),\n",
       "  'avg_score': -0.4468350523574113,\n",
       "  'feature_names': ('Social support', 'Freedom to make life choices')},\n",
       " 13: {'feature_idx': (1, 4),\n",
       "  'cv_scores': array([-0.29851165, -0.44282958, -0.57450975, -0.58852311, -0.65889388]),\n",
       "  'avg_score': -0.5126535930411379,\n",
       "  'feature_names': ('Social support', 'Generosity')},\n",
       " 14: {'feature_idx': (1, 5),\n",
       "  'cv_scores': array([-0.30985957, -0.29252779, -0.58806238, -0.51306725, -0.54468949]),\n",
       "  'avg_score': -0.4496412961053031,\n",
       "  'feature_names': ('Social support', 'Perceptions of corruption')},\n",
       " 15: {'feature_idx': (2, 3),\n",
       "  'cv_scores': array([-0.29996173, -0.4371094 , -0.51745816, -0.39866382, -0.53193014]),\n",
       "  'avg_score': -0.43702464942872493,\n",
       "  'feature_names': ('Healthy life expectancy',\n",
       "   'Freedom to make life choices')},\n",
       " 16: {'feature_idx': (2, 4),\n",
       "  'cv_scores': array([-0.36845354, -0.59063324, -0.52763463, -0.52727743, -0.59786394]),\n",
       "  'avg_score': -0.5223725549878054,\n",
       "  'feature_names': ('Healthy life expectancy', 'Generosity')},\n",
       " 17: {'feature_idx': (2, 5),\n",
       "  'cv_scores': array([-0.37639839, -0.53385   , -0.63800714, -0.47792347, -0.50041211]),\n",
       "  'avg_score': -0.5053182229990479,\n",
       "  'feature_names': ('Healthy life expectancy', 'Perceptions of corruption')},\n",
       " 18: {'feature_idx': (3, 4),\n",
       "  'cv_scores': array([-0.64078715, -0.77252712, -1.07519607, -0.95651253, -1.02724951]),\n",
       "  'avg_score': -0.8944544758350477,\n",
       "  'feature_names': ('Freedom to make life choices', 'Generosity')},\n",
       " 19: {'feature_idx': (3, 5),\n",
       "  'cv_scores': array([-0.63078142, -0.73424596, -1.19097373, -0.75107611, -1.0306423 ]),\n",
       "  'avg_score': -0.8675439041760521,\n",
       "  'feature_names': ('Freedom to make life choices',\n",
       "   'Perceptions of corruption')},\n",
       " 20: {'feature_idx': (4, 5),\n",
       "  'cv_scores': array([-0.9713127 , -0.83783358, -1.44462067, -1.36004626, -1.04937452]),\n",
       "  'avg_score': -1.1326375469260614,\n",
       "  'feature_names': ('Generosity', 'Perceptions of corruption')},\n",
       " 21: {'feature_idx': (0, 1, 2),\n",
       "  'cv_scores': array([-0.29051905, -0.41907378, -0.34455508, -0.42841622, -0.43686686]),\n",
       "  'avg_score': -0.3838861993206341,\n",
       "  'feature_names': ('GDP per capita',\n",
       "   'Social support',\n",
       "   'Healthy life expectancy')},\n",
       " 22: {'feature_idx': (0, 1, 3),\n",
       "  'cv_scores': array([-0.27263781, -0.29542446, -0.34451548, -0.37137724, -0.47618881]),\n",
       "  'avg_score': -0.3520287603239829,\n",
       "  'feature_names': ('GDP per capita',\n",
       "   'Social support',\n",
       "   'Freedom to make life choices')},\n",
       " 23: {'feature_idx': (0, 1, 4),\n",
       "  'cv_scores': array([-0.29515048, -0.37660065, -0.39683498, -0.42604269, -0.50222279]),\n",
       "  'avg_score': -0.3993703170818928,\n",
       "  'feature_names': ('GDP per capita', 'Social support', 'Generosity')},\n",
       " 24: {'feature_idx': (0, 1, 5),\n",
       "  'cv_scores': array([-0.30226182, -0.30862537, -0.43576961, -0.42483014, -0.43434901]),\n",
       "  'avg_score': -0.38116719030751606,\n",
       "  'feature_names': ('GDP per capita',\n",
       "   'Social support',\n",
       "   'Perceptions of corruption')},\n",
       " 25: {'feature_idx': (0, 2, 3),\n",
       "  'cv_scores': array([-0.29633369, -0.39229944, -0.36236846, -0.40613354, -0.42921541]),\n",
       "  'avg_score': -0.3772701067578162,\n",
       "  'feature_names': ('GDP per capita',\n",
       "   'Healthy life expectancy',\n",
       "   'Freedom to make life choices')},\n",
       " 26: {'feature_idx': (0, 2, 4),\n",
       "  'cv_scores': array([-0.37757761, -0.52154413, -0.37852582, -0.4756691 , -0.42053263]),\n",
       "  'avg_score': -0.4347698593968543,\n",
       "  'feature_names': ('GDP per capita',\n",
       "   'Healthy life expectancy',\n",
       "   'Generosity')},\n",
       " 27: {'feature_idx': (0, 2, 5),\n",
       "  'cv_scores': array([-0.38081274, -0.49736619, -0.45945997, -0.48067817, -0.35585829]),\n",
       "  'avg_score': -0.43483507078842754,\n",
       "  'feature_names': ('GDP per capita',\n",
       "   'Healthy life expectancy',\n",
       "   'Perceptions of corruption')},\n",
       " 28: {'feature_idx': (0, 3, 4),\n",
       "  'cv_scores': array([-0.33686686, -0.41582373, -0.38134804, -0.47415185, -0.51302746]),\n",
       "  'avg_score': -0.42424358891142677,\n",
       "  'feature_names': ('GDP per capita',\n",
       "   'Freedom to make life choices',\n",
       "   'Generosity')},\n",
       " 29: {'feature_idx': (0, 3, 5),\n",
       "  'cv_scores': array([-0.35383488, -0.39473687, -0.40228919, -0.4488098 , -0.49433854]),\n",
       "  'avg_score': -0.4188018551936425,\n",
       "  'feature_names': ('GDP per capita',\n",
       "   'Freedom to make life choices',\n",
       "   'Perceptions of corruption')},\n",
       " 30: {'feature_idx': (0, 4, 5),\n",
       "  'cv_scores': array([-0.46246275, -0.52601821, -0.46126845, -0.55042446, -0.43238797]),\n",
       "  'avg_score': -0.4865123667958735,\n",
       "  'feature_names': ('GDP per capita',\n",
       "   'Generosity',\n",
       "   'Perceptions of corruption')},\n",
       " 31: {'feature_idx': (1, 2, 3),\n",
       "  'cv_scores': array([-0.26403615, -0.32677274, -0.39727861, -0.33192024, -0.44740613]),\n",
       "  'avg_score': -0.353482775056149,\n",
       "  'feature_names': ('Social support',\n",
       "   'Healthy life expectancy',\n",
       "   'Freedom to make life choices')},\n",
       " 32: {'feature_idx': (1, 2, 4),\n",
       "  'cv_scores': array([-0.25668372, -0.3982834 , -0.42193786, -0.39032034, -0.49623344]),\n",
       "  'avg_score': -0.39269175185015465,\n",
       "  'feature_names': ('Social support',\n",
       "   'Healthy life expectancy',\n",
       "   'Generosity')},\n",
       " 33: {'feature_idx': (1, 2, 5),\n",
       "  'cv_scores': array([-0.27138292, -0.32650478, -0.48157217, -0.37076815, -0.41290118]),\n",
       "  'avg_score': -0.3726258422799848,\n",
       "  'feature_names': ('Social support',\n",
       "   'Healthy life expectancy',\n",
       "   'Perceptions of corruption')},\n",
       " 34: {'feature_idx': (1, 3, 4),\n",
       "  'cv_scores': array([-0.33557051, -0.36909856, -0.53393808, -0.45306043, -0.59626829]),\n",
       "  'avg_score': -0.4575871723836976,\n",
       "  'feature_names': ('Social support',\n",
       "   'Freedom to make life choices',\n",
       "   'Generosity')},\n",
       " 35: {'feature_idx': (1, 3, 5),\n",
       "  'cv_scores': array([-0.30739785, -0.27829852, -0.55289051, -0.43273193, -0.53288263]),\n",
       "  'avg_score': -0.4208402891352037,\n",
       "  'feature_names': ('Social support',\n",
       "   'Freedom to make life choices',\n",
       "   'Perceptions of corruption')},\n",
       " 36: {'feature_idx': (1, 4, 5),\n",
       "  'cv_scores': array([-0.30835466, -0.29423295, -0.60177462, -0.51052341, -0.5561869 ]),\n",
       "  'avg_score': -0.4542145096028568,\n",
       "  'feature_names': ('Social support',\n",
       "   'Generosity',\n",
       "   'Perceptions of corruption')},\n",
       " 37: {'feature_idx': (2, 3, 4),\n",
       "  'cv_scores': array([-0.30101332, -0.43745336, -0.53485911, -0.44746015, -0.54879974]),\n",
       "  'avg_score': -0.4539171368553845,\n",
       "  'feature_names': ('Healthy life expectancy',\n",
       "   'Freedom to make life choices',\n",
       "   'Generosity')},\n",
       " 38: {'feature_idx': (2, 3, 5),\n",
       "  'cv_scores': array([-0.31221116, -0.42089778, -0.59262422, -0.38245445, -0.515717  ]),\n",
       "  'avg_score': -0.4447809228530327,\n",
       "  'feature_names': ('Healthy life expectancy',\n",
       "   'Freedom to make life choices',\n",
       "   'Perceptions of corruption')},\n",
       " 39: {'feature_idx': (2, 4, 5),\n",
       "  'cv_scores': array([-0.37521768, -0.52845343, -0.64781498, -0.49207877, -0.54161287]),\n",
       "  'avg_score': -0.517035545932392,\n",
       "  'feature_names': ('Healthy life expectancy',\n",
       "   'Generosity',\n",
       "   'Perceptions of corruption')},\n",
       " 40: {'feature_idx': (3, 4, 5),\n",
       "  'cv_scores': array([-0.67932313, -0.66190506, -1.12349523, -0.9000587 , -0.9744662 ]),\n",
       "  'avg_score': -0.8678496643282493,\n",
       "  'feature_names': ('Freedom to make life choices',\n",
       "   'Generosity',\n",
       "   'Perceptions of corruption')},\n",
       " 41: {'feature_idx': (0, 1, 2, 3),\n",
       "  'cv_scores': array([-0.25691989, -0.30950916, -0.33743158, -0.34271583, -0.4243743 ]),\n",
       "  'avg_score': -0.3341901510767359,\n",
       "  'feature_names': ('GDP per capita',\n",
       "   'Social support',\n",
       "   'Healthy life expectancy',\n",
       "   'Freedom to make life choices')},\n",
       " 42: {'feature_idx': (0, 1, 2, 4),\n",
       "  'cv_scores': array([-0.27152719, -0.3829641 , -0.36919723, -0.38050266, -0.44741481]),\n",
       "  'avg_score': -0.37032119610927605,\n",
       "  'feature_names': ('GDP per capita',\n",
       "   'Social support',\n",
       "   'Healthy life expectancy',\n",
       "   'Generosity')},\n",
       " 43: {'feature_idx': (0, 1, 2, 5),\n",
       "  'cv_scores': array([-0.28008892, -0.33261084, -0.43120336, -0.38134633, -0.38446894]),\n",
       "  'avg_score': -0.3619436768343435,\n",
       "  'feature_names': ('GDP per capita',\n",
       "   'Social support',\n",
       "   'Healthy life expectancy',\n",
       "   'Perceptions of corruption')},\n",
       " 44: {'feature_idx': (0, 1, 3, 4),\n",
       "  'cv_scores': array([-0.2620794 , -0.29991991, -0.37063873, -0.36362457, -0.48396749]),\n",
       "  'avg_score': -0.35604602100876176,\n",
       "  'feature_names': ('GDP per capita',\n",
       "   'Social support',\n",
       "   'Freedom to make life choices',\n",
       "   'Generosity')},\n",
       " 45: {'feature_idx': (0, 1, 3, 5),\n",
       "  'cv_scores': array([-0.27516108, -0.26143558, -0.39619241, -0.35866483, -0.4442781 ]),\n",
       "  'avg_score': -0.3471464011056033,\n",
       "  'feature_names': ('GDP per capita',\n",
       "   'Social support',\n",
       "   'Freedom to make life choices',\n",
       "   'Perceptions of corruption')},\n",
       " 46: {'feature_idx': (0, 1, 4, 5),\n",
       "  'cv_scores': array([-0.29085671, -0.30627085, -0.44610055, -0.40803597, -0.44855811]),\n",
       "  'avg_score': -0.37996443760709087,\n",
       "  'feature_names': ('GDP per capita',\n",
       "   'Social support',\n",
       "   'Generosity',\n",
       "   'Perceptions of corruption')},\n",
       " 47: {'feature_idx': (0, 2, 3, 4),\n",
       "  'cv_scores': array([-0.29343206, -0.3942763 , -0.38305845, -0.42142849, -0.43946852]),\n",
       "  'avg_score': -0.3863327635407483,\n",
       "  'feature_names': ('GDP per capita',\n",
       "   'Healthy life expectancy',\n",
       "   'Freedom to make life choices',\n",
       "   'Generosity')},\n",
       " 48: {'feature_idx': (0, 2, 3, 5),\n",
       "  'cv_scores': array([-0.30782014, -0.38260618, -0.42017011, -0.39769281, -0.41849054]),\n",
       "  'avg_score': -0.385355955578999,\n",
       "  'feature_names': ('GDP per capita',\n",
       "   'Healthy life expectancy',\n",
       "   'Freedom to make life choices',\n",
       "   'Perceptions of corruption')},\n",
       " 49: {'feature_idx': (0, 2, 4, 5),\n",
       "  'cv_scores': array([-0.38015172, -0.48649594, -0.46381103, -0.46469094, -0.38758991]),\n",
       "  'avg_score': -0.4365479075816685,\n",
       "  'feature_names': ('GDP per capita',\n",
       "   'Healthy life expectancy',\n",
       "   'Generosity',\n",
       "   'Perceptions of corruption')},\n",
       " 50: {'feature_idx': (0, 3, 4, 5),\n",
       "  'cv_scores': array([-0.35251798, -0.4077272 , -0.41322843, -0.47394049, -0.50419039]),\n",
       "  'avg_score': -0.4303209001650319,\n",
       "  'feature_names': ('GDP per capita',\n",
       "   'Freedom to make life choices',\n",
       "   'Generosity',\n",
       "   'Perceptions of corruption')},\n",
       " 51: {'feature_idx': (1, 2, 3, 4),\n",
       "  'cv_scores': array([-0.25882061, -0.32492119, -0.42160328, -0.33045257, -0.46407266]),\n",
       "  'avg_score': -0.3599740612901096,\n",
       "  'feature_names': ('Social support',\n",
       "   'Healthy life expectancy',\n",
       "   'Freedom to make life choices',\n",
       "   'Generosity')},\n",
       " 52: {'feature_idx': (1, 2, 3, 5),\n",
       "  'cv_scores': array([-0.26302366, -0.28333083, -0.45909324, -0.31540729, -0.41544307]),\n",
       "  'avg_score': -0.34725961871240657,\n",
       "  'feature_names': ('Social support',\n",
       "   'Healthy life expectancy',\n",
       "   'Freedom to make life choices',\n",
       "   'Perceptions of corruption')},\n",
       " 53: {'feature_idx': (1, 2, 4, 5),\n",
       "  'cv_scores': array([-0.26220039, -0.32004009, -0.49457827, -0.36299684, -0.43581704]),\n",
       "  'avg_score': -0.3751265255359268,\n",
       "  'feature_names': ('Social support',\n",
       "   'Healthy life expectancy',\n",
       "   'Generosity',\n",
       "   'Perceptions of corruption')},\n",
       " 54: {'feature_idx': (1, 3, 4, 5),\n",
       "  'cv_scores': array([-0.33823794, -0.28015635, -0.56160998, -0.43509994, -0.53731023]),\n",
       "  'avg_score': -0.43048288721237193,\n",
       "  'feature_names': ('Social support',\n",
       "   'Freedom to make life choices',\n",
       "   'Generosity',\n",
       "   'Perceptions of corruption')},\n",
       " 55: {'feature_idx': (2, 3, 4, 5),\n",
       "  'cv_scores': array([-0.31664482, -0.42170605, -0.59748123, -0.43584418, -0.53100704]),\n",
       "  'avg_score': -0.4605366647795056,\n",
       "  'feature_names': ('Healthy life expectancy',\n",
       "   'Freedom to make life choices',\n",
       "   'Generosity',\n",
       "   'Perceptions of corruption')},\n",
       " 56: {'feature_idx': (0, 1, 2, 3, 4),\n",
       "  'cv_scores': array([-0.24660655, -0.30770393, -0.36182028, -0.33633292, -0.43517016]),\n",
       "  'avg_score': -0.3375267682216093,\n",
       "  'feature_names': ('GDP per capita',\n",
       "   'Social support',\n",
       "   'Healthy life expectancy',\n",
       "   'Freedom to make life choices',\n",
       "   'Generosity')},\n",
       " 57: {'feature_idx': (0, 1, 2, 3, 5),\n",
       "  'cv_scores': array([-0.25978958, -0.27968627, -0.40050361, -0.32862445, -0.39877358]),\n",
       "  'avg_score': -0.33347549672615456,\n",
       "  'feature_names': ('GDP per capita',\n",
       "   'Social support',\n",
       "   'Healthy life expectancy',\n",
       "   'Freedom to make life choices',\n",
       "   'Perceptions of corruption')},\n",
       " 58: {'feature_idx': (0, 1, 2, 4, 5),\n",
       "  'cv_scores': array([-0.26996732, -0.32443424, -0.43944759, -0.36533027, -0.40382452]),\n",
       "  'avg_score': -0.36060078785772853,\n",
       "  'feature_names': ('GDP per capita',\n",
       "   'Social support',\n",
       "   'Healthy life expectancy',\n",
       "   'Generosity',\n",
       "   'Perceptions of corruption')},\n",
       " 59: {'feature_idx': (0, 1, 3, 4, 5),\n",
       "  'cv_scores': array([-0.27310348, -0.26917491, -0.41009587, -0.3601471 , -0.45520144]),\n",
       "  'avg_score': -0.35354456366699183,\n",
       "  'feature_names': ('GDP per capita',\n",
       "   'Social support',\n",
       "   'Freedom to make life choices',\n",
       "   'Generosity',\n",
       "   'Perceptions of corruption')},\n",
       " 60: {'feature_idx': (0, 2, 3, 4, 5),\n",
       "  'cv_scores': array([-0.30602185, -0.38897125, -0.42908857, -0.41924986, -0.4331846 ]),\n",
       "  'avg_score': -0.3953032260212077,\n",
       "  'feature_names': ('GDP per capita',\n",
       "   'Healthy life expectancy',\n",
       "   'Freedom to make life choices',\n",
       "   'Generosity',\n",
       "   'Perceptions of corruption')},\n",
       " 61: {'feature_idx': (1, 2, 3, 4, 5),\n",
       "  'cv_scores': array([-0.26834132, -0.28473699, -0.47138175, -0.32097724, -0.43015966]),\n",
       "  'avg_score': -0.35511939221389766,\n",
       "  'feature_names': ('Social support',\n",
       "   'Healthy life expectancy',\n",
       "   'Freedom to make life choices',\n",
       "   'Generosity',\n",
       "   'Perceptions of corruption')},\n",
       " 62: {'feature_idx': (0, 1, 2, 3, 4, 5),\n",
       "  'cv_scores': array([-0.25659344, -0.28313549, -0.41216115, -0.33062124, -0.41204049]),\n",
       "  'avg_score': -0.3389103596319142,\n",
       "  'feature_names': ('GDP per capita',\n",
       "   'Social support',\n",
       "   'Healthy life expectancy',\n",
       "   'Freedom to make life choices',\n",
       "   'Generosity',\n",
       "   'Perceptions of corruption')}}"
      ]
     },
     "execution_count": 10,
     "metadata": {},
     "output_type": "execute_result"
    }
   ],
   "source": [
    "# The dataset has 6 different features, 63 different subsets. And one of them is null (0) subset.\n",
    "# By using the subsets_ attribute, preferably had taken a look at selected feature indices at each step.\n",
    "efs.subsets_"
   ]
  },
  {
   "cell_type": "code",
   "execution_count": 11,
   "metadata": {},
   "outputs": [
    {
     "data": {
      "text/html": [
       "<div>\n",
       "<style scoped>\n",
       "    .dataframe tbody tr th:only-of-type {\n",
       "        vertical-align: middle;\n",
       "    }\n",
       "\n",
       "    .dataframe tbody tr th {\n",
       "        vertical-align: top;\n",
       "    }\n",
       "\n",
       "    .dataframe thead th {\n",
       "        text-align: right;\n",
       "    }\n",
       "</style>\n",
       "<table border=\"1\" class=\"dataframe\">\n",
       "  <thead>\n",
       "    <tr style=\"text-align: right;\">\n",
       "      <th></th>\n",
       "      <th>feature_idx</th>\n",
       "      <th>cv_scores</th>\n",
       "      <th>avg_score</th>\n",
       "      <th>feature_names</th>\n",
       "      <th>ci_bound</th>\n",
       "      <th>std_dev</th>\n",
       "      <th>std_err</th>\n",
       "    </tr>\n",
       "  </thead>\n",
       "  <tbody>\n",
       "    <tr>\n",
       "      <th>57</th>\n",
       "      <td>(0, 1, 2, 3, 5)</td>\n",
       "      <td>[-0.25978957518240464, -0.27968626896873094, -...</td>\n",
       "      <td>-0.333475</td>\n",
       "      <td>(GDP per capita, Social support, Healthy life ...</td>\n",
       "      <td>0.0751715</td>\n",
       "      <td>0.058486</td>\n",
       "      <td>0.029243</td>\n",
       "    </tr>\n",
       "    <tr>\n",
       "      <th>41</th>\n",
       "      <td>(0, 1, 2, 3)</td>\n",
       "      <td>[-0.2569198882919649, -0.3095091597495441, -0....</td>\n",
       "      <td>-0.33419</td>\n",
       "      <td>(GDP per capita, Social support, Healthy life ...</td>\n",
       "      <td>0.0699185</td>\n",
       "      <td>0.0543989</td>\n",
       "      <td>0.0271995</td>\n",
       "    </tr>\n",
       "    <tr>\n",
       "      <th>56</th>\n",
       "      <td>(0, 1, 2, 3, 4)</td>\n",
       "      <td>[-0.2466065463436417, -0.30770393398149387, -0...</td>\n",
       "      <td>-0.337527</td>\n",
       "      <td>(GDP per capita, Social support, Healthy life ...</td>\n",
       "      <td>0.0798159</td>\n",
       "      <td>0.0620995</td>\n",
       "      <td>0.0310497</td>\n",
       "    </tr>\n",
       "    <tr>\n",
       "      <th>62</th>\n",
       "      <td>(0, 1, 2, 3, 4, 5)</td>\n",
       "      <td>[-0.25659343575048554, -0.28313549000026783, -...</td>\n",
       "      <td>-0.33891</td>\n",
       "      <td>(GDP per capita, Social support, Healthy life ...</td>\n",
       "      <td>0.0826379</td>\n",
       "      <td>0.0642951</td>\n",
       "      <td>0.0321476</td>\n",
       "    </tr>\n",
       "    <tr>\n",
       "      <th>45</th>\n",
       "      <td>(0, 1, 3, 5)</td>\n",
       "      <td>[-0.2751610787243343, -0.2614355774063514, -0....</td>\n",
       "      <td>-0.347146</td>\n",
       "      <td>(GDP per capita, Social support, Freedom to ma...</td>\n",
       "      <td>0.0899722</td>\n",
       "      <td>0.0700014</td>\n",
       "      <td>0.0350007</td>\n",
       "    </tr>\n",
       "    <tr>\n",
       "      <th>...</th>\n",
       "      <td>...</td>\n",
       "      <td>...</td>\n",
       "      <td>...</td>\n",
       "      <td>...</td>\n",
       "      <td>...</td>\n",
       "      <td>...</td>\n",
       "      <td>...</td>\n",
       "    </tr>\n",
       "    <tr>\n",
       "      <th>3</th>\n",
       "      <td>(3,)</td>\n",
       "      <td>[-0.5915619941744733, -0.8115701671432194, -1....</td>\n",
       "      <td>-0.877765</td>\n",
       "      <td>(Freedom to make life choices,)</td>\n",
       "      <td>0.245376</td>\n",
       "      <td>0.190911</td>\n",
       "      <td>0.0954555</td>\n",
       "    </tr>\n",
       "    <tr>\n",
       "      <th>18</th>\n",
       "      <td>(3, 4)</td>\n",
       "      <td>[-0.6407871476737464, -0.7725271184731561, -1....</td>\n",
       "      <td>-0.894454</td>\n",
       "      <td>(Freedom to make life choices, Generosity)</td>\n",
       "      <td>0.209913</td>\n",
       "      <td>0.16332</td>\n",
       "      <td>0.0816599</td>\n",
       "    </tr>\n",
       "    <tr>\n",
       "      <th>5</th>\n",
       "      <td>(5,)</td>\n",
       "      <td>[-0.9739154029066242, -0.8482271644357512, -1....</td>\n",
       "      <td>-1.1179</td>\n",
       "      <td>(Perceptions of corruption,)</td>\n",
       "      <td>0.27517</td>\n",
       "      <td>0.214092</td>\n",
       "      <td>0.107046</td>\n",
       "    </tr>\n",
       "    <tr>\n",
       "      <th>20</th>\n",
       "      <td>(4, 5)</td>\n",
       "      <td>[-0.9713127015481244, -0.837833578657559, -1.4...</td>\n",
       "      <td>-1.13264</td>\n",
       "      <td>(Generosity, Perceptions of corruption)</td>\n",
       "      <td>0.298074</td>\n",
       "      <td>0.231912</td>\n",
       "      <td>0.115956</td>\n",
       "    </tr>\n",
       "    <tr>\n",
       "      <th>4</th>\n",
       "      <td>(4,)</td>\n",
       "      <td>[-1.0337602587147425, -1.2584048758414599, -1....</td>\n",
       "      <td>-1.30065</td>\n",
       "      <td>(Generosity,)</td>\n",
       "      <td>0.284782</td>\n",
       "      <td>0.22157</td>\n",
       "      <td>0.110785</td>\n",
       "    </tr>\n",
       "  </tbody>\n",
       "</table>\n",
       "<p>63 rows × 7 columns</p>\n",
       "</div>"
      ],
      "text/plain": [
       "           feature_idx                                          cv_scores  \\\n",
       "57     (0, 1, 2, 3, 5)  [-0.25978957518240464, -0.27968626896873094, -...   \n",
       "41        (0, 1, 2, 3)  [-0.2569198882919649, -0.3095091597495441, -0....   \n",
       "56     (0, 1, 2, 3, 4)  [-0.2466065463436417, -0.30770393398149387, -0...   \n",
       "62  (0, 1, 2, 3, 4, 5)  [-0.25659343575048554, -0.28313549000026783, -...   \n",
       "45        (0, 1, 3, 5)  [-0.2751610787243343, -0.2614355774063514, -0....   \n",
       "..                 ...                                                ...   \n",
       "3                 (3,)  [-0.5915619941744733, -0.8115701671432194, -1....   \n",
       "18              (3, 4)  [-0.6407871476737464, -0.7725271184731561, -1....   \n",
       "5                 (5,)  [-0.9739154029066242, -0.8482271644357512, -1....   \n",
       "20              (4, 5)  [-0.9713127015481244, -0.837833578657559, -1.4...   \n",
       "4                 (4,)  [-1.0337602587147425, -1.2584048758414599, -1....   \n",
       "\n",
       "   avg_score                                      feature_names   ci_bound  \\\n",
       "57 -0.333475  (GDP per capita, Social support, Healthy life ...  0.0751715   \n",
       "41  -0.33419  (GDP per capita, Social support, Healthy life ...  0.0699185   \n",
       "56 -0.337527  (GDP per capita, Social support, Healthy life ...  0.0798159   \n",
       "62  -0.33891  (GDP per capita, Social support, Healthy life ...  0.0826379   \n",
       "45 -0.347146  (GDP per capita, Social support, Freedom to ma...  0.0899722   \n",
       "..       ...                                                ...        ...   \n",
       "3  -0.877765                    (Freedom to make life choices,)   0.245376   \n",
       "18 -0.894454         (Freedom to make life choices, Generosity)   0.209913   \n",
       "5    -1.1179                       (Perceptions of corruption,)    0.27517   \n",
       "20  -1.13264            (Generosity, Perceptions of corruption)   0.298074   \n",
       "4   -1.30065                                      (Generosity,)   0.284782   \n",
       "\n",
       "      std_dev    std_err  \n",
       "57   0.058486   0.029243  \n",
       "41  0.0543989  0.0271995  \n",
       "56  0.0620995  0.0310497  \n",
       "62  0.0642951  0.0321476  \n",
       "45  0.0700014  0.0350007  \n",
       "..        ...        ...  \n",
       "3    0.190911  0.0954555  \n",
       "18    0.16332  0.0816599  \n",
       "5    0.214092   0.107046  \n",
       "20   0.231912   0.115956  \n",
       "4     0.22157   0.110785  \n",
       "\n",
       "[63 rows x 7 columns]"
      ]
     },
     "execution_count": 11,
     "metadata": {},
     "output_type": "execute_result"
    }
   ],
   "source": [
    "# Dictionary values must be converted into dataframe.\n",
    "# Furthermore, scores must be sorted highest to lowest, so \"ascending\" was defined as False\n",
    "pd.DataFrame.from_dict(efs.get_metric_dict()).T.sort_values(\"avg_score\", ascending =False)"
   ]
  },
  {
   "cell_type": "code",
   "execution_count": 12,
   "metadata": {},
   "outputs": [
    {
     "name": "stdout",
     "output_type": "stream",
     "text": [
      "MSE1 (Best Subset Selection MSE): 0.1857\n"
     ]
    }
   ],
   "source": [
    "# 57th subset must be chosen since it has the highest average score.\n",
    "# And then, the score of 57th subset as shown.\n",
    "# And it is equal to 18.57 %\n",
    "\n",
    "linear_model = LinearRegression()\n",
    "x_train_selected = x_train.iloc[:,[0, 1, 2, 3, 5]]\n",
    "x_test_selected = x_test.iloc[:,[0, 1, 2, 3, 5]]\n",
    "\n",
    "linear_model.fit(x_train_selected, y_train)\n",
    "\n",
    "pred0 = linear_model.predict(x_test_selected)\n",
    "mse1 = mean_squared_error(y_test, pred0)\n",
    "print(\"MSE1 (Best Subset Selection MSE):\", format(mse1, \".4f\"))"
   ]
  },
  {
   "cell_type": "markdown",
   "metadata": {},
   "source": [
    "## 3.2. STEPWISE SELECTION"
   ]
  },
  {
   "cell_type": "markdown",
   "metadata": {},
   "source": [
    "### 3.2.1. FORWARD SELECTION"
   ]
  },
  {
   "cell_type": "markdown",
   "metadata": {},
   "source": [
    "- In this part, variables must be added one by one until all of the predictors are in the model.\n",
    "\n",
    "- \"k_features\" is identified as 6 \n",
    "since the forward selection logorithm will process by adding predictors with highest scored cross validation.\n",
    "\n",
    "- To obtain forward selection \"forward\" option must be identified as True.\n",
    "- Scoring method is neg_mean_squared_error "
   ]
  },
  {
   "cell_type": "code",
   "execution_count": 13,
   "metadata": {},
   "outputs": [
    {
     "data": {
      "text/plain": [
       "{1: {'feature_idx': (0,),\n",
       "  'cv_scores': array([-0.4672812 , -0.6017266 , -0.38106414, -0.62313917, -0.46584783]),\n",
       "  'avg_score': -0.5078117868387727,\n",
       "  'feature_names': ('GDP per capita',)},\n",
       " 2: {'feature_idx': (0, 3),\n",
       "  'cv_scores': array([-0.33941742, -0.40622633, -0.35995223, -0.45705502, -0.5072423 ]),\n",
       "  'avg_score': -0.4139786581452092,\n",
       "  'feature_names': ('GDP per capita', 'Freedom to make life choices')},\n",
       " 3: {'feature_idx': (0, 1, 3),\n",
       "  'cv_scores': array([-0.27263781, -0.29542446, -0.34451548, -0.37137724, -0.47618881]),\n",
       "  'avg_score': -0.3520287603239829,\n",
       "  'feature_names': ('GDP per capita',\n",
       "   'Social support',\n",
       "   'Freedom to make life choices')},\n",
       " 4: {'feature_idx': (0, 1, 2, 3),\n",
       "  'cv_scores': array([-0.25691989, -0.30950916, -0.33743158, -0.34271583, -0.4243743 ]),\n",
       "  'avg_score': -0.3341901510767359,\n",
       "  'feature_names': ('GDP per capita',\n",
       "   'Social support',\n",
       "   'Healthy life expectancy',\n",
       "   'Freedom to make life choices')},\n",
       " 5: {'feature_idx': (0, 1, 2, 3, 5),\n",
       "  'cv_scores': array([-0.25978958, -0.27968627, -0.40050361, -0.32862445, -0.39877358]),\n",
       "  'avg_score': -0.33347549672615456,\n",
       "  'feature_names': ('GDP per capita',\n",
       "   'Social support',\n",
       "   'Healthy life expectancy',\n",
       "   'Freedom to make life choices',\n",
       "   'Perceptions of corruption')},\n",
       " 6: {'feature_idx': (0, 1, 2, 3, 4, 5),\n",
       "  'cv_scores': array([-0.25659344, -0.28313549, -0.41216115, -0.33062124, -0.41204049]),\n",
       "  'avg_score': -0.3389103596319142,\n",
       "  'feature_names': ('GDP per capita',\n",
       "   'Social support',\n",
       "   'Healthy life expectancy',\n",
       "   'Freedom to make life choices',\n",
       "   'Generosity',\n",
       "   'Perceptions of corruption')}}"
      ]
     },
     "execution_count": 13,
     "metadata": {},
     "output_type": "execute_result"
    }
   ],
   "source": [
    "\n",
    "from mlxtend.feature_selection import SequentialFeatureSelector as SFS\n",
    "linear_model_2 = LinearRegression()\n",
    "\n",
    "from mlxtend.feature_selection import SequentialFeatureSelector as SFS\n",
    "linear_model_2 = LinearRegression()\n",
    "\n",
    "sfs = SFS(linear_model_2, k_features=6, forward = True, floating = False, scoring = 'neg_mean_squared_error', cv=5)\n",
    "\n",
    "feature_names = (\"GDP per capita\", \"Social support\", \"Healthy life expectancy\", \"Freedom to make life choices\", \n",
    "                 \"Generosity\", \"Perceptions of corruption\")\n",
    "sfs = sfs.fit(x_train, y_train, custom_feature_names = feature_names)\n",
    "\n",
    "sfs.subsets_"
   ]
  },
  {
   "cell_type": "code",
   "execution_count": 14,
   "metadata": {
    "scrolled": true
   },
   "outputs": [
    {
     "data": {
      "text/html": [
       "<div>\n",
       "<style scoped>\n",
       "    .dataframe tbody tr th:only-of-type {\n",
       "        vertical-align: middle;\n",
       "    }\n",
       "\n",
       "    .dataframe tbody tr th {\n",
       "        vertical-align: top;\n",
       "    }\n",
       "\n",
       "    .dataframe thead th {\n",
       "        text-align: right;\n",
       "    }\n",
       "</style>\n",
       "<table border=\"1\" class=\"dataframe\">\n",
       "  <thead>\n",
       "    <tr style=\"text-align: right;\">\n",
       "      <th></th>\n",
       "      <th>feature_idx</th>\n",
       "      <th>cv_scores</th>\n",
       "      <th>avg_score</th>\n",
       "      <th>feature_names</th>\n",
       "      <th>ci_bound</th>\n",
       "      <th>std_dev</th>\n",
       "      <th>std_err</th>\n",
       "    </tr>\n",
       "  </thead>\n",
       "  <tbody>\n",
       "    <tr>\n",
       "      <th>5</th>\n",
       "      <td>(0, 1, 2, 3, 5)</td>\n",
       "      <td>[-0.25978957518240464, -0.27968626896873094, -...</td>\n",
       "      <td>-0.333475</td>\n",
       "      <td>(GDP per capita, Social support, Healthy life ...</td>\n",
       "      <td>0.0751715</td>\n",
       "      <td>0.058486</td>\n",
       "      <td>0.029243</td>\n",
       "    </tr>\n",
       "    <tr>\n",
       "      <th>4</th>\n",
       "      <td>(0, 1, 2, 3)</td>\n",
       "      <td>[-0.2569198882919649, -0.3095091597495441, -0....</td>\n",
       "      <td>-0.33419</td>\n",
       "      <td>(GDP per capita, Social support, Healthy life ...</td>\n",
       "      <td>0.0699185</td>\n",
       "      <td>0.0543989</td>\n",
       "      <td>0.0271995</td>\n",
       "    </tr>\n",
       "    <tr>\n",
       "      <th>6</th>\n",
       "      <td>(0, 1, 2, 3, 4, 5)</td>\n",
       "      <td>[-0.25659343575048554, -0.28313549000026783, -...</td>\n",
       "      <td>-0.33891</td>\n",
       "      <td>(GDP per capita, Social support, Healthy life ...</td>\n",
       "      <td>0.0826379</td>\n",
       "      <td>0.0642951</td>\n",
       "      <td>0.0321476</td>\n",
       "    </tr>\n",
       "    <tr>\n",
       "      <th>3</th>\n",
       "      <td>(0, 1, 3)</td>\n",
       "      <td>[-0.27263780989331127, -0.29542446128052, -0.3...</td>\n",
       "      <td>-0.352029</td>\n",
       "      <td>(GDP per capita, Social support, Freedom to ma...</td>\n",
       "      <td>0.0915241</td>\n",
       "      <td>0.0712088</td>\n",
       "      <td>0.0356044</td>\n",
       "    </tr>\n",
       "    <tr>\n",
       "      <th>2</th>\n",
       "      <td>(0, 3)</td>\n",
       "      <td>[-0.3394174181251258, -0.4062263280262821, -0....</td>\n",
       "      <td>-0.413979</td>\n",
       "      <td>(GDP per capita, Freedom to make life choices)</td>\n",
       "      <td>0.0794223</td>\n",
       "      <td>0.0617932</td>\n",
       "      <td>0.0308966</td>\n",
       "    </tr>\n",
       "    <tr>\n",
       "      <th>1</th>\n",
       "      <td>(0,)</td>\n",
       "      <td>[-0.46728120172456866, -0.6017265954813843, -0...</td>\n",
       "      <td>-0.507812</td>\n",
       "      <td>(GDP per capita,)</td>\n",
       "      <td>0.117221</td>\n",
       "      <td>0.091202</td>\n",
       "      <td>0.045601</td>\n",
       "    </tr>\n",
       "  </tbody>\n",
       "</table>\n",
       "</div>"
      ],
      "text/plain": [
       "          feature_idx                                          cv_scores  \\\n",
       "5     (0, 1, 2, 3, 5)  [-0.25978957518240464, -0.27968626896873094, -...   \n",
       "4        (0, 1, 2, 3)  [-0.2569198882919649, -0.3095091597495441, -0....   \n",
       "6  (0, 1, 2, 3, 4, 5)  [-0.25659343575048554, -0.28313549000026783, -...   \n",
       "3           (0, 1, 3)  [-0.27263780989331127, -0.29542446128052, -0.3...   \n",
       "2              (0, 3)  [-0.3394174181251258, -0.4062263280262821, -0....   \n",
       "1                (0,)  [-0.46728120172456866, -0.6017265954813843, -0...   \n",
       "\n",
       "  avg_score                                      feature_names   ci_bound  \\\n",
       "5 -0.333475  (GDP per capita, Social support, Healthy life ...  0.0751715   \n",
       "4  -0.33419  (GDP per capita, Social support, Healthy life ...  0.0699185   \n",
       "6  -0.33891  (GDP per capita, Social support, Healthy life ...  0.0826379   \n",
       "3 -0.352029  (GDP per capita, Social support, Freedom to ma...  0.0915241   \n",
       "2 -0.413979     (GDP per capita, Freedom to make life choices)  0.0794223   \n",
       "1 -0.507812                                  (GDP per capita,)   0.117221   \n",
       "\n",
       "     std_dev    std_err  \n",
       "5   0.058486   0.029243  \n",
       "4  0.0543989  0.0271995  \n",
       "6  0.0642951  0.0321476  \n",
       "3  0.0712088  0.0356044  \n",
       "2  0.0617932  0.0308966  \n",
       "1   0.091202   0.045601  "
      ]
     },
     "execution_count": 14,
     "metadata": {},
     "output_type": "execute_result"
    }
   ],
   "source": [
    "# In this section dictionary values converted into a dataframe that shows values from highest to lowest.\n",
    "\n",
    "pd.DataFrame.from_dict(sfs.get_metric_dict()).T.sort_values('avg_score', ascending = False)"
   ]
  },
  {
   "cell_type": "markdown",
   "metadata": {},
   "source": [
    "It has seen that highest avg_score includes 5 features which are 0, 1, 2, 3, 5th indexes."
   ]
  },
  {
   "cell_type": "markdown",
   "metadata": {},
   "source": [
    "- For training set, 0, 1, 2, 3, 4, 5th indexed features are selected since they will give the optimal solution."
   ]
  },
  {
   "cell_type": "code",
   "execution_count": 15,
   "metadata": {},
   "outputs": [
    {
     "name": "stdout",
     "output_type": "stream",
     "text": [
      "Forward Selection MSE:  0.1857\n"
     ]
    }
   ],
   "source": [
    "# After fitting training and test sets, MSE of the Forward Selection process has shown below.\n",
    "\n",
    "from sklearn.metrics import mean_squared_error\n",
    "from sklearn.linear_model import LinearRegression\n",
    "linear_model1 = LinearRegression()\n",
    "x_train_selected1= x_train.iloc[:,[0, 1, 2, 3, 5]]\n",
    "x_test_selected1= x_test.iloc[:,[0, 1, 2, 3, 5]]\n",
    "lm = linear_model.fit(x_train_selected1,y_train)\n",
    "\n",
    "pred2 = lm.predict(x_test_selected1)\n",
    "mse2=mean_squared_error(y_test,pred2)\n",
    "print(\"Forward Selection MSE: \", format(mse2,\".4f\"))"
   ]
  },
  {
   "cell_type": "markdown",
   "metadata": {},
   "source": [
    "### 3.2.2. BACKWARD SELECTION"
   ]
  },
  {
   "cell_type": "markdown",
   "metadata": {},
   "source": [
    "- In this part, the model will begin with full features included oppositely of forward selection.\n",
    "- Then, iteratively least useful features will be removed from the model."
   ]
  },
  {
   "cell_type": "code",
   "execution_count": 16,
   "metadata": {},
   "outputs": [
    {
     "data": {
      "text/plain": [
       "{6: {'feature_idx': (0, 1, 2, 3, 4, 5),\n",
       "  'cv_scores': array([-0.25659344, -0.28313549, -0.41216115, -0.33062124, -0.41204049]),\n",
       "  'avg_score': -0.3389103596319142,\n",
       "  'feature_names': ('GDP per capita',\n",
       "   'Social support',\n",
       "   'Healthy life expectancy',\n",
       "   'Freedom to make life choices',\n",
       "   'Generosity',\n",
       "   'Perceptions of corruption')},\n",
       " 5: {'feature_idx': (0, 1, 2, 3, 5),\n",
       "  'cv_scores': array([-0.25978958, -0.27968627, -0.40050361, -0.32862445, -0.39877358]),\n",
       "  'avg_score': -0.33347549672615456,\n",
       "  'feature_names': ('GDP per capita',\n",
       "   'Social support',\n",
       "   'Healthy life expectancy',\n",
       "   'Freedom to make life choices',\n",
       "   'Perceptions of corruption')},\n",
       " 4: {'feature_idx': (0, 1, 2, 3),\n",
       "  'cv_scores': array([-0.25691989, -0.30950916, -0.33743158, -0.34271583, -0.4243743 ]),\n",
       "  'avg_score': -0.3341901510767359,\n",
       "  'feature_names': ('GDP per capita',\n",
       "   'Social support',\n",
       "   'Healthy life expectancy',\n",
       "   'Freedom to make life choices')},\n",
       " 3: {'feature_idx': (0, 1, 3),\n",
       "  'cv_scores': array([-0.27263781, -0.29542446, -0.34451548, -0.37137724, -0.47618881]),\n",
       "  'avg_score': -0.3520287603239829,\n",
       "  'feature_names': ('GDP per capita',\n",
       "   'Social support',\n",
       "   'Freedom to make life choices')},\n",
       " 2: {'feature_idx': (0, 3),\n",
       "  'cv_scores': array([-0.33941742, -0.40622633, -0.35995223, -0.45705502, -0.5072423 ]),\n",
       "  'avg_score': -0.4139786581452092,\n",
       "  'feature_names': ('GDP per capita', 'Freedom to make life choices')},\n",
       " 1: {'feature_idx': (0,),\n",
       "  'cv_scores': array([-0.4672812 , -0.6017266 , -0.38106414, -0.62313917, -0.46584783]),\n",
       "  'avg_score': -0.5078117868387727,\n",
       "  'feature_names': ('GDP per capita',)}}"
      ]
     },
     "execution_count": 16,
     "metadata": {},
     "output_type": "execute_result"
    }
   ],
   "source": [
    "# In opposite of forward selection, \"k_features\" is identified as 1 and \"forward\" option is identified as False.\n",
    "# Since logorithm must function reversely.\n",
    "\n",
    "from mlxtend.feature_selection import SequentialFeatureSelector as SFS\n",
    "linear_model_3 = LinearRegression()\n",
    "\n",
    "from mlxtend.feature_selection import SequentialFeatureSelector as SFS\n",
    "linear_model_3 = LinearRegression()\n",
    "\n",
    "sfs2 = SFS(linear_model_3, k_features=1, forward = False, floating = False, scoring = 'neg_mean_squared_error', cv=5)\n",
    "\n",
    "feature_names = (\"GDP per capita\", \"Social support\", \"Healthy life expectancy\", \"Freedom to make life choices\", \n",
    "                 \"Generosity\", \"Perceptions of corruption\")\n",
    "sfs2 = sfs2.fit(x_train, y_train, custom_feature_names = feature_names)\n",
    "\n",
    "sfs2.subsets_"
   ]
  },
  {
   "cell_type": "code",
   "execution_count": 17,
   "metadata": {},
   "outputs": [
    {
     "data": {
      "text/html": [
       "<div>\n",
       "<style scoped>\n",
       "    .dataframe tbody tr th:only-of-type {\n",
       "        vertical-align: middle;\n",
       "    }\n",
       "\n",
       "    .dataframe tbody tr th {\n",
       "        vertical-align: top;\n",
       "    }\n",
       "\n",
       "    .dataframe thead th {\n",
       "        text-align: right;\n",
       "    }\n",
       "</style>\n",
       "<table border=\"1\" class=\"dataframe\">\n",
       "  <thead>\n",
       "    <tr style=\"text-align: right;\">\n",
       "      <th></th>\n",
       "      <th>feature_idx</th>\n",
       "      <th>cv_scores</th>\n",
       "      <th>avg_score</th>\n",
       "      <th>feature_names</th>\n",
       "      <th>ci_bound</th>\n",
       "      <th>std_dev</th>\n",
       "      <th>std_err</th>\n",
       "    </tr>\n",
       "  </thead>\n",
       "  <tbody>\n",
       "    <tr>\n",
       "      <th>5</th>\n",
       "      <td>(0, 1, 2, 3, 5)</td>\n",
       "      <td>[-0.25978957518240464, -0.27968626896873094, -...</td>\n",
       "      <td>-0.333475</td>\n",
       "      <td>(GDP per capita, Social support, Healthy life ...</td>\n",
       "      <td>0.0751715</td>\n",
       "      <td>0.058486</td>\n",
       "      <td>0.029243</td>\n",
       "    </tr>\n",
       "    <tr>\n",
       "      <th>4</th>\n",
       "      <td>(0, 1, 2, 3)</td>\n",
       "      <td>[-0.2569198882919649, -0.3095091597495441, -0....</td>\n",
       "      <td>-0.33419</td>\n",
       "      <td>(GDP per capita, Social support, Healthy life ...</td>\n",
       "      <td>0.0699185</td>\n",
       "      <td>0.0543989</td>\n",
       "      <td>0.0271995</td>\n",
       "    </tr>\n",
       "    <tr>\n",
       "      <th>6</th>\n",
       "      <td>(0, 1, 2, 3, 4, 5)</td>\n",
       "      <td>[-0.25659343575048554, -0.28313549000026783, -...</td>\n",
       "      <td>-0.33891</td>\n",
       "      <td>(GDP per capita, Social support, Healthy life ...</td>\n",
       "      <td>0.0826379</td>\n",
       "      <td>0.0642951</td>\n",
       "      <td>0.0321476</td>\n",
       "    </tr>\n",
       "    <tr>\n",
       "      <th>3</th>\n",
       "      <td>(0, 1, 3)</td>\n",
       "      <td>[-0.27263780989331127, -0.29542446128052, -0.3...</td>\n",
       "      <td>-0.352029</td>\n",
       "      <td>(GDP per capita, Social support, Freedom to ma...</td>\n",
       "      <td>0.0915241</td>\n",
       "      <td>0.0712088</td>\n",
       "      <td>0.0356044</td>\n",
       "    </tr>\n",
       "    <tr>\n",
       "      <th>2</th>\n",
       "      <td>(0, 3)</td>\n",
       "      <td>[-0.3394174181251258, -0.4062263280262821, -0....</td>\n",
       "      <td>-0.413979</td>\n",
       "      <td>(GDP per capita, Freedom to make life choices)</td>\n",
       "      <td>0.0794223</td>\n",
       "      <td>0.0617932</td>\n",
       "      <td>0.0308966</td>\n",
       "    </tr>\n",
       "    <tr>\n",
       "      <th>1</th>\n",
       "      <td>(0,)</td>\n",
       "      <td>[-0.46728120172456866, -0.6017265954813843, -0...</td>\n",
       "      <td>-0.507812</td>\n",
       "      <td>(GDP per capita,)</td>\n",
       "      <td>0.117221</td>\n",
       "      <td>0.091202</td>\n",
       "      <td>0.045601</td>\n",
       "    </tr>\n",
       "  </tbody>\n",
       "</table>\n",
       "</div>"
      ],
      "text/plain": [
       "          feature_idx                                          cv_scores  \\\n",
       "5     (0, 1, 2, 3, 5)  [-0.25978957518240464, -0.27968626896873094, -...   \n",
       "4        (0, 1, 2, 3)  [-0.2569198882919649, -0.3095091597495441, -0....   \n",
       "6  (0, 1, 2, 3, 4, 5)  [-0.25659343575048554, -0.28313549000026783, -...   \n",
       "3           (0, 1, 3)  [-0.27263780989331127, -0.29542446128052, -0.3...   \n",
       "2              (0, 3)  [-0.3394174181251258, -0.4062263280262821, -0....   \n",
       "1                (0,)  [-0.46728120172456866, -0.6017265954813843, -0...   \n",
       "\n",
       "  avg_score                                      feature_names   ci_bound  \\\n",
       "5 -0.333475  (GDP per capita, Social support, Healthy life ...  0.0751715   \n",
       "4  -0.33419  (GDP per capita, Social support, Healthy life ...  0.0699185   \n",
       "6  -0.33891  (GDP per capita, Social support, Healthy life ...  0.0826379   \n",
       "3 -0.352029  (GDP per capita, Social support, Freedom to ma...  0.0915241   \n",
       "2 -0.413979     (GDP per capita, Freedom to make life choices)  0.0794223   \n",
       "1 -0.507812                                  (GDP per capita,)   0.117221   \n",
       "\n",
       "     std_dev    std_err  \n",
       "5   0.058486   0.029243  \n",
       "4  0.0543989  0.0271995  \n",
       "6  0.0642951  0.0321476  \n",
       "3  0.0712088  0.0356044  \n",
       "2  0.0617932  0.0308966  \n",
       "1   0.091202   0.045601  "
      ]
     },
     "execution_count": 17,
     "metadata": {},
     "output_type": "execute_result"
    }
   ],
   "source": [
    "# In this section dictionary values converted into a dataframe that shows values from highest to lowest.\n",
    "pd.DataFrame.from_dict(sfs.get_metric_dict()).T.sort_values('avg_score', ascending = False)"
   ]
  },
  {
   "cell_type": "markdown",
   "metadata": {},
   "source": [
    "- As it was in Forward Selection, our features with highest CV are stil 0, 1, 2, 3, 5 as it is expected."
   ]
  },
  {
   "cell_type": "code",
   "execution_count": 18,
   "metadata": {},
   "outputs": [
    {
     "name": "stdout",
     "output_type": "stream",
     "text": [
      "Backward Selection MSE:  0.1857\n"
     ]
    }
   ],
   "source": [
    "# After fitting training and test sets, MSE of the Backward Selection process has shown below.\n",
    "\n",
    "linear_model3 = LinearRegression()\n",
    "x_train_selected3= x_train.iloc[:,[0, 1, 2, 3, 5]]\n",
    "x_test_selected3= x_test.iloc[:,[0, 1, 2, 3, 5]]\n",
    "\n",
    "pred3 = lm.predict(x_test_selected3)\n",
    "mse3=mean_squared_error(y_test,pred3)\n",
    "print(\"Backward Selection MSE: \", format(mse3,\".4f\"))"
   ]
  },
  {
   "cell_type": "markdown",
   "metadata": {},
   "source": [
    "- The MSE score is 18.57% which is the same as in Forward Selection."
   ]
  },
  {
   "cell_type": "markdown",
   "metadata": {},
   "source": [
    "## 3.3. SHRINKAGE METHODS"
   ]
  },
  {
   "cell_type": "markdown",
   "metadata": {},
   "source": [
    "### 3.3.1. RIDGE REGRESSION"
   ]
  },
  {
   "cell_type": "markdown",
   "metadata": {},
   "source": [
    "- First the needed functions must be imported from different libraries.\n",
    "- Main functions that will be used in shrinking process are RidgeCV, Lasso and LassoCV"
   ]
  },
  {
   "cell_type": "code",
   "execution_count": 19,
   "metadata": {},
   "outputs": [],
   "source": [
    "%matplotlib inline\n",
    "import matplotlib.pyplot as plt\n",
    "from sklearn.preprocessing import scale \n",
    "from sklearn.linear_model import Ridge, RidgeCV, Lasso, LassoCV\n",
    "from sklearn.metrics import mean_squared_error"
   ]
  },
  {
   "cell_type": "code",
   "execution_count": 20,
   "metadata": {},
   "outputs": [
    {
     "data": {
      "text/plain": [
       "array([5.00000000e+04, 4.24876718e+04, 3.61040451e+04, 3.06795364e+04,\n",
       "       2.60700414e+04, 2.21531073e+04, 1.88246790e+04, 1.59963357e+04,\n",
       "       1.35929412e+04, 1.15506485e+04, 9.81520325e+03, 8.34050269e+03,\n",
       "       7.08737081e+03, 6.02251770e+03, 5.11765511e+03, 4.34874501e+03,\n",
       "       3.69536102e+03, 3.14014572e+03, 2.66834962e+03, 2.26743925e+03,\n",
       "       1.92676430e+03, 1.63727458e+03, 1.39127970e+03, 1.18224471e+03,\n",
       "       1.00461650e+03, 8.53676324e+02, 7.25414389e+02, 6.16423370e+02,\n",
       "       5.23807876e+02, 4.45107543e+02, 3.78231664e+02, 3.21403656e+02,\n",
       "       2.73113861e+02, 2.32079442e+02, 1.97210303e+02, 1.67580133e+02,\n",
       "       1.42401793e+02, 1.21006413e+02, 1.02825615e+02, 8.73764200e+01,\n",
       "       7.42484131e+01, 6.30928442e+01, 5.36133611e+01, 4.55581378e+01,\n",
       "       3.87131841e+01, 3.28966612e+01, 2.79540509e+01, 2.37540508e+01,\n",
       "       2.01850863e+01, 1.71523464e+01, 1.45752653e+01, 1.23853818e+01,\n",
       "       1.05245207e+01, 8.94324765e+00, 7.59955541e+00, 6.45774833e+00,\n",
       "       5.48749383e+00, 4.66301673e+00, 3.96241449e+00, 3.36707533e+00,\n",
       "       2.86118383e+00, 2.43130079e+00, 2.06600620e+00, 1.75559587e+00,\n",
       "       1.49182362e+00, 1.26768225e+00, 1.07721735e+00, 9.15369140e-01,\n",
       "       7.77838072e-01, 6.60970574e-01, 5.61662016e-01, 4.77274228e-01,\n",
       "       4.05565415e-01, 3.44630605e-01, 2.92851041e-01, 2.48851178e-01,\n",
       "       2.11462144e-01, 1.79690683e-01, 1.52692775e-01, 1.29751211e-01,\n",
       "       1.10256537e-01, 9.36908711e-02, 7.96141397e-02, 6.76523887e-02,\n",
       "       5.74878498e-02, 4.88504979e-02, 4.15108784e-02, 3.52740116e-02,\n",
       "       2.99742125e-02, 2.54706901e-02, 2.16438064e-02, 1.83918989e-02,\n",
       "       1.56285792e-02, 1.32804389e-02, 1.12850986e-02, 9.58955131e-03,\n",
       "       8.14875417e-03, 6.92443186e-03, 5.88405976e-03, 5.00000000e-03])"
      ]
     },
     "execution_count": 20,
     "metadata": {},
     "output_type": "execute_result"
    }
   ],
   "source": [
    "alphas = 10**np.linspace(5,-2,100)*0.5\n",
    "alphas"
   ]
  },
  {
   "cell_type": "code",
   "execution_count": 21,
   "metadata": {},
   "outputs": [],
   "source": [
    "#In this section, variables are being standardized\n",
    "from sklearn import preprocessing\n",
    "scaler = preprocessing.StandardScaler()\n",
    "xscaled = scaler.fit_transform(x)"
   ]
  },
  {
   "cell_type": "code",
   "execution_count": 22,
   "metadata": {},
   "outputs": [
    {
     "data": {
      "text/plain": [
       "(100, 6)"
      ]
     },
     "execution_count": 22,
     "metadata": {},
     "output_type": "execute_result"
    }
   ],
   "source": [
    "#Then, for each alpha value, \"Ridge Regression\" models will be fitted.\n",
    "\n",
    "ridge = Ridge()\n",
    "coefs = []\n",
    "\n",
    "for a in alphas:\n",
    "    ridge.set_params(alpha = a)\n",
    "    ridge.fit(xscaled, y)\n",
    "    coefs.append(ridge.coef_)\n",
    "np.shape(coefs)"
   ]
  },
  {
   "cell_type": "code",
   "execution_count": 23,
   "metadata": {},
   "outputs": [
    {
     "data": {
      "text/plain": [
       "Text(0, 0.5, 'weights')"
      ]
     },
     "execution_count": 23,
     "metadata": {},
     "output_type": "execute_result"
    },
    {
     "data": {
      "image/png": "[encoded data removed]",
      "text/plain": [
       "<Figure size 432x288 with 1 Axes>"
      ]
     },
     "metadata": {
      "needs_background": "light"
     },
     "output_type": "display_data"
    }
   ],
   "source": [
    "#To examine the model, visualization of the coefficients of the different alfas was proceeded.\n",
    "ax = plt.gca()\n",
    "ax.plot(alphas, coefs)\n",
    "ax.set_xscale('log')\n",
    "plt.axis('tight')\n",
    "plt.xlabel('alpha')\n",
    "plt.ylabel('weights')"
   ]
  },
  {
   "cell_type": "code",
   "execution_count": 24,
   "metadata": {},
   "outputs": [
    {
     "data": {
      "text/html": [
       "<div>\n",
       "<style scoped>\n",
       "    .dataframe tbody tr th:only-of-type {\n",
       "        vertical-align: middle;\n",
       "    }\n",
       "\n",
       "    .dataframe tbody tr th {\n",
       "        vertical-align: top;\n",
       "    }\n",
       "\n",
       "    .dataframe thead th {\n",
       "        text-align: right;\n",
       "    }\n",
       "</style>\n",
       "<table border=\"1\" class=\"dataframe\">\n",
       "  <thead>\n",
       "    <tr style=\"text-align: right;\">\n",
       "      <th></th>\n",
       "      <th>Lambda</th>\n",
       "      <th>Validation Error</th>\n",
       "    </tr>\n",
       "  </thead>\n",
       "  <tbody>\n",
       "    <tr>\n",
       "      <th>0</th>\n",
       "      <td>0.010000</td>\n",
       "      <td>0.349669</td>\n",
       "    </tr>\n",
       "    <tr>\n",
       "      <th>1</th>\n",
       "      <td>0.110009</td>\n",
       "      <td>0.346350</td>\n",
       "    </tr>\n",
       "    <tr>\n",
       "      <th>2</th>\n",
       "      <td>0.210018</td>\n",
       "      <td>0.343919</td>\n",
       "    </tr>\n",
       "    <tr>\n",
       "      <th>3</th>\n",
       "      <td>0.310027</td>\n",
       "      <td>0.342128</td>\n",
       "    </tr>\n",
       "    <tr>\n",
       "      <th>4</th>\n",
       "      <td>0.410036</td>\n",
       "      <td>0.340815</td>\n",
       "    </tr>\n",
       "    <tr>\n",
       "      <th>...</th>\n",
       "      <td>...</td>\n",
       "      <td>...</td>\n",
       "    </tr>\n",
       "    <tr>\n",
       "      <th>9995</th>\n",
       "      <td>999.599964</td>\n",
       "      <td>1.257343</td>\n",
       "    </tr>\n",
       "    <tr>\n",
       "      <th>9996</th>\n",
       "      <td>999.699973</td>\n",
       "      <td>1.257348</td>\n",
       "    </tr>\n",
       "    <tr>\n",
       "      <th>9997</th>\n",
       "      <td>999.799982</td>\n",
       "      <td>1.257354</td>\n",
       "    </tr>\n",
       "    <tr>\n",
       "      <th>9998</th>\n",
       "      <td>999.899991</td>\n",
       "      <td>1.257359</td>\n",
       "    </tr>\n",
       "    <tr>\n",
       "      <th>9999</th>\n",
       "      <td>1000.000000</td>\n",
       "      <td>1.257364</td>\n",
       "    </tr>\n",
       "  </tbody>\n",
       "</table>\n",
       "<p>10000 rows × 2 columns</p>\n",
       "</div>"
      ],
      "text/plain": [
       "           Lambda  Validation Error\n",
       "0        0.010000          0.349669\n",
       "1        0.110009          0.346350\n",
       "2        0.210018          0.343919\n",
       "3        0.310027          0.342128\n",
       "4        0.410036          0.340815\n",
       "...           ...               ...\n",
       "9995   999.599964          1.257343\n",
       "9996   999.699973          1.257348\n",
       "9997   999.799982          1.257354\n",
       "9998   999.899991          1.257359\n",
       "9999  1000.000000          1.257364\n",
       "\n",
       "[10000 rows x 2 columns]"
      ]
     },
     "execution_count": 24,
     "metadata": {},
     "output_type": "execute_result"
    }
   ],
   "source": [
    "from sklearn.model_selection import cross_val_score\n",
    "from sklearn.model_selection import KFold\n",
    "lambdas = np.linspace(0.01,1000,num=10000)\n",
    "scoresCV = []\n",
    "for l in lambdas:\n",
    "    ridge_reg = Ridge(alpha=l)\n",
    "    ridge_reg.fit(x_train, y_train)    \n",
    "    scoreCV = cross_val_score(ridge_reg, x_train, y_train, scoring='neg_mean_squared_error',\n",
    "                             cv=KFold(n_splits=10, shuffle=True,\n",
    "                                            random_state=1))\n",
    "    scoresCV.append([l,-1*np.mean(scoreCV)])\n",
    "df2 = pd.DataFrame(scoresCV,columns=['Lambda','Validation Error'])\n",
    "df2\n",
    "# Lambdas and Validation Errors for each index is shown as a table below"
   ]
  },
  {
   "cell_type": "code",
   "execution_count": 25,
   "metadata": {},
   "outputs": [
    {
     "data": {
      "text/html": [
       "<div>\n",
       "<style scoped>\n",
       "    .dataframe tbody tr th:only-of-type {\n",
       "        vertical-align: middle;\n",
       "    }\n",
       "\n",
       "    .dataframe tbody tr th {\n",
       "        vertical-align: top;\n",
       "    }\n",
       "\n",
       "    .dataframe thead th {\n",
       "        text-align: right;\n",
       "    }\n",
       "</style>\n",
       "<table border=\"1\" class=\"dataframe\">\n",
       "  <thead>\n",
       "    <tr style=\"text-align: right;\">\n",
       "      <th></th>\n",
       "      <th>Lambda</th>\n",
       "      <th>Validation Error</th>\n",
       "    </tr>\n",
       "  </thead>\n",
       "  <tbody>\n",
       "    <tr>\n",
       "      <th>0</th>\n",
       "      <td>0.010000</td>\n",
       "      <td>0.349669</td>\n",
       "    </tr>\n",
       "    <tr>\n",
       "      <th>1</th>\n",
       "      <td>0.110009</td>\n",
       "      <td>0.346350</td>\n",
       "    </tr>\n",
       "    <tr>\n",
       "      <th>2</th>\n",
       "      <td>0.210018</td>\n",
       "      <td>0.343919</td>\n",
       "    </tr>\n",
       "    <tr>\n",
       "      <th>3</th>\n",
       "      <td>0.310027</td>\n",
       "      <td>0.342128</td>\n",
       "    </tr>\n",
       "    <tr>\n",
       "      <th>4</th>\n",
       "      <td>0.410036</td>\n",
       "      <td>0.340815</td>\n",
       "    </tr>\n",
       "    <tr>\n",
       "      <th>...</th>\n",
       "      <td>...</td>\n",
       "      <td>...</td>\n",
       "    </tr>\n",
       "    <tr>\n",
       "      <th>9995</th>\n",
       "      <td>999.599964</td>\n",
       "      <td>1.257343</td>\n",
       "    </tr>\n",
       "    <tr>\n",
       "      <th>9996</th>\n",
       "      <td>999.699973</td>\n",
       "      <td>1.257348</td>\n",
       "    </tr>\n",
       "    <tr>\n",
       "      <th>9997</th>\n",
       "      <td>999.799982</td>\n",
       "      <td>1.257354</td>\n",
       "    </tr>\n",
       "    <tr>\n",
       "      <th>9998</th>\n",
       "      <td>999.899991</td>\n",
       "      <td>1.257359</td>\n",
       "    </tr>\n",
       "    <tr>\n",
       "      <th>9999</th>\n",
       "      <td>1000.000000</td>\n",
       "      <td>1.257364</td>\n",
       "    </tr>\n",
       "  </tbody>\n",
       "</table>\n",
       "<p>10000 rows × 2 columns</p>\n",
       "</div>"
      ],
      "text/plain": [
       "           Lambda  Validation Error\n",
       "0        0.010000          0.349669\n",
       "1        0.110009          0.346350\n",
       "2        0.210018          0.343919\n",
       "3        0.310027          0.342128\n",
       "4        0.410036          0.340815\n",
       "...           ...               ...\n",
       "9995   999.599964          1.257343\n",
       "9996   999.699973          1.257348\n",
       "9997   999.799982          1.257354\n",
       "9998   999.899991          1.257359\n",
       "9999  1000.000000          1.257364\n",
       "\n",
       "[10000 rows x 2 columns]"
      ]
     },
     "execution_count": 25,
     "metadata": {},
     "output_type": "execute_result"
    }
   ],
   "source": [
    "df2.sort_values(['Validation Error'])\n",
    "df2"
   ]
  },
  {
   "cell_type": "code",
   "execution_count": 26,
   "metadata": {},
   "outputs": [
    {
     "name": "stdout",
     "output_type": "stream",
     "text": [
      "Best alpha: 0.6610\n"
     ]
    }
   ],
   "source": [
    "# Finding the best alpha using by RidgeCv function.\n",
    "\n",
    "ridgecv = RidgeCV(alphas = alphas,cv = 10, scoring = 'neg_mean_squared_error')\n",
    "ridgecv.fit(x_train, y_train)\n",
    "print('Best alpha:', format(ridgecv.alpha_,'.4f'))"
   ]
  },
  {
   "cell_type": "code",
   "execution_count": 27,
   "metadata": {},
   "outputs": [
    {
     "name": "stdout",
     "output_type": "stream",
     "text": [
      "Ridge MSE: 0.1864\n"
     ]
    }
   ],
   "source": [
    "# Ridge was fitted by using training and calculating mean square error by using test set.\n",
    "\n",
    "ridgecv = Ridge(alpha = ridgecv.alpha_)\n",
    "ridgecv.fit(x_train, y_train)\n",
    "mse4 = mean_squared_error(y_test, ridgecv.predict(x_test))\n",
    "print(\"Ridge MSE:\", format(mse4,\".4f\"))"
   ]
  },
  {
   "cell_type": "code",
   "execution_count": 28,
   "metadata": {},
   "outputs": [
    {
     "data": {
      "text/plain": [
       "GDP per capita                  0.776148\n",
       "Social support                  1.123943\n",
       "Healthy life expectancy         1.077376\n",
       "Freedom to make life choices    1.453259\n",
       "Generosity                      0.489714\n",
       "Perceptions of corruption       0.969595\n",
       "dtype: float64"
      ]
     },
     "execution_count": 28,
     "metadata": {},
     "output_type": "execute_result"
    }
   ],
   "source": [
    "#Then, ridge regression will be fitted by using the best alpha that was calculated above.\n",
    "ridge.fit(x, y)\n",
    "pd.Series(ridge.coef_, index = x.columns)"
   ]
  },
  {
   "cell_type": "markdown",
   "metadata": {},
   "source": [
    "### 3.3.2. THE LASSO"
   ]
  },
  {
   "cell_type": "code",
   "execution_count": 29,
   "metadata": {},
   "outputs": [
    {
     "data": {
      "text/plain": [
       "Text(0, 0.5, 'weights')"
      ]
     },
     "execution_count": 29,
     "metadata": {},
     "output_type": "execute_result"
    },
    {
     "data": {
      "image/png": "[encoded data removed]",
      "text/plain": [
       "<Figure size 432x288 with 1 Axes>"
      ]
     },
     "metadata": {
      "needs_background": "light"
     },
     "output_type": "display_data"
    }
   ],
   "source": [
    "lasso = Lasso(max_iter = 10000)\n",
    "coefs = []\n",
    "\n",
    "for a in alphas:\n",
    "    lasso.set_params(alpha=a)\n",
    "    lasso.fit(scale(x_train), y_train)\n",
    "    coefs.append(lasso.coef_)\n",
    "    \n",
    "ax = plt.gca()\n",
    "ax.plot(alphas*2, coefs)\n",
    "ax.set_xscale('log')\n",
    "plt.axis('tight')\n",
    "plt.xlabel('alpha')\n",
    "plt.ylabel('weights')"
   ]
  },
  {
   "cell_type": "code",
   "execution_count": 30,
   "metadata": {},
   "outputs": [
    {
     "name": "stdout",
     "output_type": "stream",
     "text": [
      "MSE5:  0.1835\n"
     ]
    }
   ],
   "source": [
    "lassocv = LassoCV(alphas = None, cv = 10, max_iter = 100000)\n",
    "lassocv.fit(x_train, y_train)\n",
    "lasso.set_params(alpha=lassocv.alpha_)\n",
    "lasso.fit(x_train, y_train)\n",
    "mse5 = mean_squared_error(y_test, lasso.predict(x_test))\n",
    "print('MSE5: ', format(mse5,'.4f'))"
   ]
  },
  {
   "cell_type": "code",
   "execution_count": 31,
   "metadata": {},
   "outputs": [
    {
     "data": {
      "text/plain": [
       "0.001778055592111914"
      ]
     },
     "execution_count": 31,
     "metadata": {},
     "output_type": "execute_result"
    }
   ],
   "source": [
    "lassocv.alpha_"
   ]
  },
  {
   "cell_type": "code",
   "execution_count": 32,
   "metadata": {},
   "outputs": [
    {
     "data": {
      "text/plain": [
       "GDP per capita                  0.768071\n",
       "Social support                  1.166897\n",
       "Healthy life expectancy         0.968745\n",
       "Freedom to make life choices    1.362089\n",
       "Generosity                      0.272539\n",
       "Perceptions of corruption       1.009951\n",
       "dtype: float64"
      ]
     },
     "execution_count": 32,
     "metadata": {},
     "output_type": "execute_result"
    }
   ],
   "source": [
    "pd.Series(lasso.coef_, index=x.columns)"
   ]
  },
  {
   "cell_type": "code",
   "execution_count": 33,
   "metadata": {},
   "outputs": [
    {
     "data": {
      "text/html": [
       "<div>\n",
       "<style scoped>\n",
       "    .dataframe tbody tr th:only-of-type {\n",
       "        vertical-align: middle;\n",
       "    }\n",
       "\n",
       "    .dataframe tbody tr th {\n",
       "        vertical-align: top;\n",
       "    }\n",
       "\n",
       "    .dataframe thead th {\n",
       "        text-align: right;\n",
       "    }\n",
       "</style>\n",
       "<table border=\"1\" class=\"dataframe\">\n",
       "  <thead>\n",
       "    <tr style=\"text-align: right;\">\n",
       "      <th></th>\n",
       "      <th>Lambda</th>\n",
       "      <th>Validation Error</th>\n",
       "    </tr>\n",
       "  </thead>\n",
       "  <tbody>\n",
       "    <tr>\n",
       "      <th>0</th>\n",
       "      <td>0.01000</td>\n",
       "      <td>0.352847</td>\n",
       "    </tr>\n",
       "    <tr>\n",
       "      <th>1</th>\n",
       "      <td>0.11009</td>\n",
       "      <td>0.555978</td>\n",
       "    </tr>\n",
       "    <tr>\n",
       "      <th>2</th>\n",
       "      <td>0.21018</td>\n",
       "      <td>0.797056</td>\n",
       "    </tr>\n",
       "    <tr>\n",
       "      <th>3</th>\n",
       "      <td>0.31027</td>\n",
       "      <td>1.141526</td>\n",
       "    </tr>\n",
       "    <tr>\n",
       "      <th>4</th>\n",
       "      <td>0.41036</td>\n",
       "      <td>1.312370</td>\n",
       "    </tr>\n",
       "    <tr>\n",
       "      <th>...</th>\n",
       "      <td>...</td>\n",
       "      <td>...</td>\n",
       "    </tr>\n",
       "    <tr>\n",
       "      <th>995</th>\n",
       "      <td>99.59964</td>\n",
       "      <td>1.312370</td>\n",
       "    </tr>\n",
       "    <tr>\n",
       "      <th>996</th>\n",
       "      <td>99.69973</td>\n",
       "      <td>1.312370</td>\n",
       "    </tr>\n",
       "    <tr>\n",
       "      <th>997</th>\n",
       "      <td>99.79982</td>\n",
       "      <td>1.312370</td>\n",
       "    </tr>\n",
       "    <tr>\n",
       "      <th>998</th>\n",
       "      <td>99.89991</td>\n",
       "      <td>1.312370</td>\n",
       "    </tr>\n",
       "    <tr>\n",
       "      <th>999</th>\n",
       "      <td>100.00000</td>\n",
       "      <td>1.312370</td>\n",
       "    </tr>\n",
       "  </tbody>\n",
       "</table>\n",
       "<p>1000 rows × 2 columns</p>\n",
       "</div>"
      ],
      "text/plain": [
       "        Lambda  Validation Error\n",
       "0      0.01000          0.352847\n",
       "1      0.11009          0.555978\n",
       "2      0.21018          0.797056\n",
       "3      0.31027          1.141526\n",
       "4      0.41036          1.312370\n",
       "..         ...               ...\n",
       "995   99.59964          1.312370\n",
       "996   99.69973          1.312370\n",
       "997   99.79982          1.312370\n",
       "998   99.89991          1.312370\n",
       "999  100.00000          1.312370\n",
       "\n",
       "[1000 rows x 2 columns]"
      ]
     },
     "execution_count": 33,
     "metadata": {},
     "output_type": "execute_result"
    }
   ],
   "source": [
    "from sklearn.model_selection import cross_val_score\n",
    "from sklearn.model_selection import KFold\n",
    "lambdas = np.linspace(0.01,100,num=1000)\n",
    "scoresCV = []\n",
    "for l in lambdas:\n",
    "    lasso = Lasso(alpha=l,max_iter=10000)\n",
    "    lasso.fit(x_train, y_train)    \n",
    "    scoreCV = cross_val_score(lasso, x_train, y_train, scoring=\"neg_mean_squared_error\",\n",
    "                             cv=KFold(n_splits=10, shuffle=True,\n",
    "                                            random_state=1))\n",
    "    scoresCV.append([l,-1*np.mean(scoreCV)])\n",
    "df = pd.DataFrame(scoresCV,columns=[\"Lambda\",\"Validation Error\"])\n",
    "df"
   ]
  },
  {
   "cell_type": "code",
   "execution_count": 34,
   "metadata": {},
   "outputs": [
    {
     "name": "stdout",
     "output_type": "stream",
     "text": [
      "Lasso Alpha:  0.001778055592111914\n"
     ]
    }
   ],
   "source": [
    "lassocv = LassoCV(alphas = None, cv = 10, max_iter = 100000)\n",
    "lassocv.fit(x_train, y_train)\n",
    "lasso.set_params(alpha=lassocv.alpha_)\n",
    "lasso.fit(x_train, y_train)\n",
    "print(\"Lasso Alpha: \", lassocv.alpha_)"
   ]
  },
  {
   "cell_type": "code",
   "execution_count": 35,
   "metadata": {},
   "outputs": [
    {
     "name": "stdout",
     "output_type": "stream",
     "text": [
      "The Lasso MSE: 0.1835\n"
     ]
    }
   ],
   "source": [
    "#In this part, we aim to find the mean squared error in lasso process\n",
    "mse5 = mean_squared_error(y_test, lasso.predict(x_test))\n",
    "print(\"The Lasso MSE:\", format(mse5, \".4f\"))"
   ]
  },
  {
   "cell_type": "markdown",
   "metadata": {},
   "source": [
    "## 4. CHOOSING THE BEST MODEL AND FINAL EXPLANATION"
   ]
  },
  {
   "cell_type": "markdown",
   "metadata": {},
   "source": [
    "In order to choose the best model with respect to test error, we directly use *mean square error* for each model as calculated above. Than we evaluate the perfomance of the model using cross validation.\n",
    "\n",
    "- That is why we must detect the smallest MSE from the MSEs calculated for each method above.\n",
    "- There are 5 different MSE values calculated respectively for Best Subset Selection, Forward Selection, Backward Selection, Ridge Regression and The Lasso."
   ]
  },
  {
   "cell_type": "code",
   "execution_count": 36,
   "metadata": {},
   "outputs": [
    {
     "name": "stdout",
     "output_type": "stream",
     "text": [
      "MSE RESULTS\n",
      "-----------\n",
      "MSE1 0.1857\n",
      "MSE2 0.1857\n",
      "MSE3 0.1857\n",
      "MSE4 0.1864\n",
      "MSE5 0.1835\n"
     ]
    }
   ],
   "source": [
    "# In order to choose the smallest MSE, for loop is created and MSEs listed by help of this algorithm.\n",
    "# Here\n",
    "mses = [mse1,mse2,mse3,mse4,mse5]\n",
    "print('MSE RESULTS')\n",
    "print('-----------')\n",
    "z=1\n",
    "for i in mses:\n",
    "    print('MSE',z,' ', format(i,'.4f'),sep='')\n",
    "    i+=1\n",
    "    z+=1"
   ]
  },
  {
   "cell_type": "markdown",
   "metadata": {},
   "source": [
    "- It is clearly seen that each MSE is very similar to each other. However, MSE5 which belongs to The Lasso Method has the lowest score between all of the errors."
   ]
  },
  {
   "cell_type": "markdown",
   "metadata": {},
   "source": [
    "- Next step is to visualize the model by using Lasso Method within a graph which has axises for Actual and Predicted values."
   ]
  },
  {
   "cell_type": "code",
   "execution_count": 37,
   "metadata": {},
   "outputs": [
    {
     "name": "stdout",
     "output_type": "stream",
     "text": [
      "Lasso Alpha:  0.001778055592111914\n"
     ]
    },
    {
     "data": {
      "image/png": "[encoded data removed]",
      "text/plain": [
       "<Figure size 432x288 with 1 Axes>"
      ]
     },
     "metadata": {
      "needs_background": "light"
     },
     "output_type": "display_data"
    }
   ],
   "source": [
    "lassocv = LassoCV(alphas = None, cv = 10, max_iter = 100000)\n",
    "lassocv.fit(x_train, y_train)\n",
    "lasso.set_params(alpha=lassocv.alpha_)\n",
    "lasso.fit(x_train, y_train)\n",
    "print(\"Lasso Alpha: \" ,lassocv.alpha_)\n",
    "\n",
    "y_predicted = lasso.predict(x_test)\n",
    "\n",
    "fig, ax = plt.subplots()\n",
    "ax.scatter(y_test, y_predicted, edgecolors=(0, 0, 0))\n",
    "ax.plot([y_test.min(), y_test.max()], [y_test.min(), y_test.max()], 'k--', lw=4)\n",
    "\n",
    "ax.set_xlabel(\"Actual\")\n",
    "ax.set_ylabel(\"Predicted\")\n",
    "ax.set_title(\"Actual vs Predicted Happiness Data\")\n",
    "plt.show()"
   ]
  },
  {
   "cell_type": "markdown",
   "metadata": {},
   "source": [
    "- After visualization, coefficients of chosen model must be shown."
   ]
  },
  {
   "cell_type": "code",
   "execution_count": 38,
   "metadata": {},
   "outputs": [
    {
     "data": {
      "text/plain": [
       "GDP per capita                  0.768071\n",
       "Social support                  1.166897\n",
       "Healthy life expectancy         0.968745\n",
       "Freedom to make life choices    1.362089\n",
       "Generosity                      0.272539\n",
       "Perceptions of corruption       1.009951\n",
       "dtype: float64"
      ]
     },
     "execution_count": 38,
     "metadata": {},
     "output_type": "execute_result"
    }
   ],
   "source": [
    "pd.Series(lasso.coef_, index=x.columns)"
   ]
  },
  {
   "cell_type": "markdown",
   "metadata": {},
   "source": [
    "## RESULTS AND EXPLANATION\n",
    "\n",
    "It is a common idea that if every models can be tried, the optimal model can be found easily. However, this cannot be assumed correct. As it was seen in this research, searching the entire space with Best Subset Selection did not gave the minimum error. \n",
    "\n",
    "Furthermore, adding the features with high cross validation scores iteratively or removing the features from the full model did not give the minimum error neither.\n",
    "\n",
    "So, it can be said that Best Subset Selection Methods; Forward and Backward Selections were not providing the optimal model since their Mean Squared Error was 18.57%.\n",
    "\n",
    "In Ridge Regression models, model standardized coefficients at the beginning and than worked on them. Whenever Ridge Regression is applied, it is better to divide it into its standart deviations. Beacuse if they are not in the same scale, reducing them might have troubles. We picked the best alpha using validation on the training set.\n",
    "Application the Ridge Regression gave the highest MSE in our dataset which is 18.64%.\n",
    "\n",
    "\n",
    "In Lasso models, penalty has the effect of forcing some of the coefficient estimates to be exactly zero by using lambda value. In Ridge the feasible region is circle whether in Lasso usually is corner point. In lasso, as isocountour line gets bigger, SSE will increase.\n",
    "\n",
    " # # Why The Lasso Model Is Chosen?\n",
    " \n",
    "As seen above, all the 6 features in our model which are,  GDP per capita, Social support, Healthy life expectancy, Freedom to make life choices, Generosity, Perceptions of corruption is used in Lasso Method. None of the features had the 0.0000 coefficient so, it was a must to use all of them.\n",
    "\n",
    "Generally, it is common to see that Lasso eliminates some of the features to obtain a smaller MSE, yet, in this example, clearly all features were important for response variable.\n",
    "\n",
    "Minimum MSE was obtained by The Lasso Model with 18.35%.\n",
    "\n",
    "\n",
    "## Chosen Model\n",
    "\n",
    "Best Model: **The Lasso**\n",
    "\n",
    "Best Features: **GDP per capita, Social support, Healthy life expectancy, Freedom to make life choices, \n",
    "                 Generosity, Perceptions of corruption**\n",
    "\n",
    "Feature Coefficents of Chosen Model:\n",
    "\n",
    "    GDP per capita                  0.768071\n",
    "    Social support                  1.166897\n",
    "    Healthy life expectancy         0.968745\n",
    "    Freedom to make life choices    1.362089\n",
    "    Generosity                      0.272539\n",
    "    Perceptions of corruption       1.009951\n",
    "    \n",
    "**Best MSE: \"18.35\"**"
   ]
  }
 ],
 "metadata": {
  "kernelspec": {
   "display_name": "Python 3",
   "language": "python",
   "name": "python3"
  },
  "language_info": {
   "codemirror_mode": {
    "name": "ipython",
    "version": 3
   },
   "file_extension": ".py",
   "mimetype": "text/x-python",
   "name": "python",
   "nbconvert_exporter": "python",
   "pygments_lexer": "ipython3",
   "version": "3.8.3"
  }
 },
 "nbformat": 4,
 "nbformat_minor": 4
}
