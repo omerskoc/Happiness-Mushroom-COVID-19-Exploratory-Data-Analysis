{
 "cells": [
  {
   "cell_type": "markdown",
   "metadata": {},
   "source": [
    "# APPLYING REGULARIZATION TECHNIQUES TO COVID-19 DATASET\n",
    "\n",
    "## INDEX\n",
    "#### 1. SUMMARY OF THE DATASET\n",
    "#### 2. DATA EXPLORATION AND CLEANING\n",
    "#### 3. LOGISTIC REGRESSION REGULARIZATION\n"
   ]
  },
  {
   "cell_type": "markdown",
   "metadata": {},
   "source": [
    "## 1. SUMMARY OF THE DATASET\n",
    "\n",
    "In this notebook, The dataset contains results of a survey about emotional responses to COVID-19.\n",
    "2491 participants were asked to indicate their emotions and express these in numerical scores.\n",
    "In this analysis, chosen_emotion target variable effected by the given independent variables explored."
   ]
  },
  {
   "cell_type": "markdown",
   "metadata": {},
   "source": [
    "## 2. DATA EXPLORATION AND CLEANING"
   ]
  },
  {
   "cell_type": "code",
   "execution_count": 1,
   "metadata": {},
   "outputs": [],
   "source": [
    "# Necessary modules imported.\n",
    "\n",
    "from statsmodels.stats.outliers_influence import variance_inflation_factor\n",
    "from sklearn.metrics import roc_auc_score\n",
    "from sklearn.metrics import roc_curve\n",
    "from sklearn.model_selection import train_test_split\n",
    "from sklearn.ensemble import RandomForestClassifier\n",
    "from sklearn.model_selection import cross_val_score\n",
    "from sklearn.linear_model import LinearRegression\n",
    "from sklearn.linear_model import LogisticRegression\n",
    "from sklearn.tree import DecisionTreeClassifier\n",
    "from statsmodels.tools.tools import add_constant\n",
    "from sklearn.model_selection import KFold\n",
    "import matplotlib.pyplot as plt  \n",
    "from sklearn.datasets import make_classification\n",
    "from sklearn.metrics import plot_confusion_matrix\n",
    "from sklearn import preprocessing\n",
    "from sklearn import metrics\n",
    "import seaborn as sns\n",
    "import pandas as pd  \n",
    "%matplotlib inline\n",
    "import numpy as np\n",
    "import math\n",
    "import matplotlib.pyplot as plt"
   ]
  },
  {
   "cell_type": "code",
   "execution_count": 2,
   "metadata": {},
   "outputs": [
    {
     "data": {
      "text/html": [
       "<div>\n",
       "<style scoped>\n",
       "    .dataframe tbody tr th:only-of-type {\n",
       "        vertical-align: middle;\n",
       "    }\n",
       "\n",
       "    .dataframe tbody tr th {\n",
       "        vertical-align: top;\n",
       "    }\n",
       "\n",
       "    .dataframe thead th {\n",
       "        text-align: right;\n",
       "    }\n",
       "</style>\n",
       "<table border=\"1\" class=\"dataframe\">\n",
       "  <thead>\n",
       "    <tr style=\"text-align: right;\">\n",
       "      <th></th>\n",
       "      <th>Subject_ID</th>\n",
       "      <th>startdate</th>\n",
       "      <th>enddate</th>\n",
       "      <th>duration</th>\n",
       "      <th>worry</th>\n",
       "      <th>chosen_emotion</th>\n",
       "      <th>anger</th>\n",
       "      <th>disgust</th>\n",
       "      <th>fear</th>\n",
       "      <th>anxiety</th>\n",
       "      <th>sadness</th>\n",
       "      <th>happiness</th>\n",
       "      <th>relaxation</th>\n",
       "      <th>desire</th>\n",
       "      <th>self_rating_general</th>\n",
       "      <th>twitter_general_often</th>\n",
       "      <th>twitter_tweet_often</th>\n",
       "      <th>twitter_participate_often</th>\n",
       "      <th>eng_native</th>\n",
       "    </tr>\n",
       "  </thead>\n",
       "  <tbody>\n",
       "    <tr>\n",
       "      <th>0</th>\n",
       "      <td>1</td>\n",
       "      <td>2020-04-06 07:50:34</td>\n",
       "      <td>2020-04-06 07:55:33</td>\n",
       "      <td>298</td>\n",
       "      <td>4.0</td>\n",
       "      <td>Relaxation</td>\n",
       "      <td>3.0</td>\n",
       "      <td>4.0</td>\n",
       "      <td>3.0</td>\n",
       "      <td>4.0</td>\n",
       "      <td>2.0</td>\n",
       "      <td>3.0</td>\n",
       "      <td>6.0</td>\n",
       "      <td>6.0</td>\n",
       "      <td>4.0</td>\n",
       "      <td>7.0</td>\n",
       "      <td>5.0</td>\n",
       "      <td>7.0</td>\n",
       "      <td>Yes</td>\n",
       "    </tr>\n",
       "    <tr>\n",
       "      <th>1</th>\n",
       "      <td>2</td>\n",
       "      <td>2020-04-06 07:51:27</td>\n",
       "      <td>2020-04-06 07:55:49</td>\n",
       "      <td>262</td>\n",
       "      <td>6.0</td>\n",
       "      <td>Anxiety</td>\n",
       "      <td>1.0</td>\n",
       "      <td>1.0</td>\n",
       "      <td>5.0</td>\n",
       "      <td>8.0</td>\n",
       "      <td>6.0</td>\n",
       "      <td>3.0</td>\n",
       "      <td>1.0</td>\n",
       "      <td>1.0</td>\n",
       "      <td>6.0</td>\n",
       "      <td>9.0</td>\n",
       "      <td>5.0</td>\n",
       "      <td>2.0</td>\n",
       "      <td>Yes</td>\n",
       "    </tr>\n",
       "    <tr>\n",
       "      <th>2</th>\n",
       "      <td>3</td>\n",
       "      <td>2020-04-06 07:51:13</td>\n",
       "      <td>2020-04-06 07:55:59</td>\n",
       "      <td>285</td>\n",
       "      <td>5.0</td>\n",
       "      <td>Anxiety</td>\n",
       "      <td>6.0</td>\n",
       "      <td>5.0</td>\n",
       "      <td>8.0</td>\n",
       "      <td>7.0</td>\n",
       "      <td>6.0</td>\n",
       "      <td>2.0</td>\n",
       "      <td>2.0</td>\n",
       "      <td>2.0</td>\n",
       "      <td>6.0</td>\n",
       "      <td>7.0</td>\n",
       "      <td>3.0</td>\n",
       "      <td>3.0</td>\n",
       "      <td>Yes</td>\n",
       "    </tr>\n",
       "    <tr>\n",
       "      <th>3</th>\n",
       "      <td>4</td>\n",
       "      <td>2020-04-06 07:51:48</td>\n",
       "      <td>2020-04-06 07:56:47</td>\n",
       "      <td>299</td>\n",
       "      <td>4.0</td>\n",
       "      <td>Anxiety</td>\n",
       "      <td>2.0</td>\n",
       "      <td>1.0</td>\n",
       "      <td>3.0</td>\n",
       "      <td>4.0</td>\n",
       "      <td>1.0</td>\n",
       "      <td>4.0</td>\n",
       "      <td>5.0</td>\n",
       "      <td>2.0</td>\n",
       "      <td>6.0</td>\n",
       "      <td>9.0</td>\n",
       "      <td>6.0</td>\n",
       "      <td>7.0</td>\n",
       "      <td>Yes</td>\n",
       "    </tr>\n",
       "    <tr>\n",
       "      <th>4</th>\n",
       "      <td>5</td>\n",
       "      <td>2020-04-06 07:51:27</td>\n",
       "      <td>2020-04-06 07:56:55</td>\n",
       "      <td>328</td>\n",
       "      <td>9.0</td>\n",
       "      <td>Fear</td>\n",
       "      <td>5.0</td>\n",
       "      <td>6.0</td>\n",
       "      <td>9.0</td>\n",
       "      <td>8.0</td>\n",
       "      <td>8.0</td>\n",
       "      <td>2.0</td>\n",
       "      <td>1.0</td>\n",
       "      <td>1.0</td>\n",
       "      <td>9.0</td>\n",
       "      <td>9.0</td>\n",
       "      <td>1.0</td>\n",
       "      <td>2.0</td>\n",
       "      <td>Yes</td>\n",
       "    </tr>\n",
       "    <tr>\n",
       "      <th>5</th>\n",
       "      <td>6</td>\n",
       "      <td>2020-04-06 07:50:32</td>\n",
       "      <td>2020-04-06 07:57:11</td>\n",
       "      <td>399</td>\n",
       "      <td>9.0</td>\n",
       "      <td>Anxiety</td>\n",
       "      <td>8.0</td>\n",
       "      <td>8.0</td>\n",
       "      <td>9.0</td>\n",
       "      <td>9.0</td>\n",
       "      <td>6.0</td>\n",
       "      <td>5.0</td>\n",
       "      <td>3.0</td>\n",
       "      <td>3.0</td>\n",
       "      <td>8.0</td>\n",
       "      <td>9.0</td>\n",
       "      <td>2.0</td>\n",
       "      <td>2.0</td>\n",
       "      <td>Yes</td>\n",
       "    </tr>\n",
       "    <tr>\n",
       "      <th>6</th>\n",
       "      <td>7</td>\n",
       "      <td>2020-04-06 07:50:24</td>\n",
       "      <td>2020-04-06 07:57:27</td>\n",
       "      <td>423</td>\n",
       "      <td>7.0</td>\n",
       "      <td>Anxiety</td>\n",
       "      <td>4.0</td>\n",
       "      <td>2.0</td>\n",
       "      <td>6.0</td>\n",
       "      <td>8.0</td>\n",
       "      <td>6.0</td>\n",
       "      <td>5.0</td>\n",
       "      <td>7.0</td>\n",
       "      <td>4.0</td>\n",
       "      <td>7.0</td>\n",
       "      <td>9.0</td>\n",
       "      <td>8.0</td>\n",
       "      <td>6.0</td>\n",
       "      <td>Yes</td>\n",
       "    </tr>\n",
       "    <tr>\n",
       "      <th>7</th>\n",
       "      <td>8</td>\n",
       "      <td>2020-04-06 07:51:55</td>\n",
       "      <td>2020-04-06 07:57:33</td>\n",
       "      <td>338</td>\n",
       "      <td>7.0</td>\n",
       "      <td>Fear</td>\n",
       "      <td>2.0</td>\n",
       "      <td>2.0</td>\n",
       "      <td>7.0</td>\n",
       "      <td>6.0</td>\n",
       "      <td>1.0</td>\n",
       "      <td>6.0</td>\n",
       "      <td>2.0</td>\n",
       "      <td>1.0</td>\n",
       "      <td>9.0</td>\n",
       "      <td>9.0</td>\n",
       "      <td>1.0</td>\n",
       "      <td>1.0</td>\n",
       "      <td>Yes</td>\n",
       "    </tr>\n",
       "    <tr>\n",
       "      <th>8</th>\n",
       "      <td>9</td>\n",
       "      <td>2020-04-06 07:52:08</td>\n",
       "      <td>2020-04-06 07:57:51</td>\n",
       "      <td>343</td>\n",
       "      <td>3.0</td>\n",
       "      <td>Sadness</td>\n",
       "      <td>3.0</td>\n",
       "      <td>2.0</td>\n",
       "      <td>5.0</td>\n",
       "      <td>5.0</td>\n",
       "      <td>5.0</td>\n",
       "      <td>5.0</td>\n",
       "      <td>4.0</td>\n",
       "      <td>4.0</td>\n",
       "      <td>8.0</td>\n",
       "      <td>9.0</td>\n",
       "      <td>5.0</td>\n",
       "      <td>3.0</td>\n",
       "      <td>Yes</td>\n",
       "    </tr>\n",
       "    <tr>\n",
       "      <th>9</th>\n",
       "      <td>10</td>\n",
       "      <td>2020-04-06 07:51:41</td>\n",
       "      <td>2020-04-06 07:58:28</td>\n",
       "      <td>406</td>\n",
       "      <td>9.0</td>\n",
       "      <td>Anxiety</td>\n",
       "      <td>1.0</td>\n",
       "      <td>1.0</td>\n",
       "      <td>9.0</td>\n",
       "      <td>9.0</td>\n",
       "      <td>9.0</td>\n",
       "      <td>1.0</td>\n",
       "      <td>1.0</td>\n",
       "      <td>1.0</td>\n",
       "      <td>9.0</td>\n",
       "      <td>7.0</td>\n",
       "      <td>3.0</td>\n",
       "      <td>3.0</td>\n",
       "      <td>Yes</td>\n",
       "    </tr>\n",
       "  </tbody>\n",
       "</table>\n",
       "</div>"
      ],
      "text/plain": [
       "   Subject_ID           startdate             enddate  duration  worry  \\\n",
       "0           1 2020-04-06 07:50:34 2020-04-06 07:55:33       298    4.0   \n",
       "1           2 2020-04-06 07:51:27 2020-04-06 07:55:49       262    6.0   \n",
       "2           3 2020-04-06 07:51:13 2020-04-06 07:55:59       285    5.0   \n",
       "3           4 2020-04-06 07:51:48 2020-04-06 07:56:47       299    4.0   \n",
       "4           5 2020-04-06 07:51:27 2020-04-06 07:56:55       328    9.0   \n",
       "5           6 2020-04-06 07:50:32 2020-04-06 07:57:11       399    9.0   \n",
       "6           7 2020-04-06 07:50:24 2020-04-06 07:57:27       423    7.0   \n",
       "7           8 2020-04-06 07:51:55 2020-04-06 07:57:33       338    7.0   \n",
       "8           9 2020-04-06 07:52:08 2020-04-06 07:57:51       343    3.0   \n",
       "9          10 2020-04-06 07:51:41 2020-04-06 07:58:28       406    9.0   \n",
       "\n",
       "  chosen_emotion  anger  disgust  fear  anxiety  sadness  happiness  \\\n",
       "0     Relaxation    3.0      4.0   3.0      4.0      2.0        3.0   \n",
       "1        Anxiety    1.0      1.0   5.0      8.0      6.0        3.0   \n",
       "2        Anxiety    6.0      5.0   8.0      7.0      6.0        2.0   \n",
       "3        Anxiety    2.0      1.0   3.0      4.0      1.0        4.0   \n",
       "4           Fear    5.0      6.0   9.0      8.0      8.0        2.0   \n",
       "5        Anxiety    8.0      8.0   9.0      9.0      6.0        5.0   \n",
       "6        Anxiety    4.0      2.0   6.0      8.0      6.0        5.0   \n",
       "7           Fear    2.0      2.0   7.0      6.0      1.0        6.0   \n",
       "8        Sadness    3.0      2.0   5.0      5.0      5.0        5.0   \n",
       "9        Anxiety    1.0      1.0   9.0      9.0      9.0        1.0   \n",
       "\n",
       "   relaxation  desire  self_rating_general  twitter_general_often  \\\n",
       "0         6.0     6.0                  4.0                    7.0   \n",
       "1         1.0     1.0                  6.0                    9.0   \n",
       "2         2.0     2.0                  6.0                    7.0   \n",
       "3         5.0     2.0                  6.0                    9.0   \n",
       "4         1.0     1.0                  9.0                    9.0   \n",
       "5         3.0     3.0                  8.0                    9.0   \n",
       "6         7.0     4.0                  7.0                    9.0   \n",
       "7         2.0     1.0                  9.0                    9.0   \n",
       "8         4.0     4.0                  8.0                    9.0   \n",
       "9         1.0     1.0                  9.0                    7.0   \n",
       "\n",
       "   twitter_tweet_often  twitter_participate_often eng_native  \n",
       "0                  5.0                        7.0        Yes  \n",
       "1                  5.0                        2.0        Yes  \n",
       "2                  3.0                        3.0        Yes  \n",
       "3                  6.0                        7.0        Yes  \n",
       "4                  1.0                        2.0        Yes  \n",
       "5                  2.0                        2.0        Yes  \n",
       "6                  8.0                        6.0        Yes  \n",
       "7                  1.0                        1.0        Yes  \n",
       "8                  5.0                        3.0        Yes  \n",
       "9                  3.0                        3.0        Yes  "
      ]
     },
     "execution_count": 2,
     "metadata": {},
     "output_type": "execute_result"
    }
   ],
   "source": [
    "# In the sheet 0 there is an explanation for dataset so sheet_name=1 used for extracting the data. \n",
    "\n",
    "dataset = pd.read_excel(r\"C:\\Users\\ASUS\\Desktop\\Data Proje Çiğde\\COVID-19 Data.xlsx\", sheet_name = 1)\n",
    "dataset.head(10)"
   ]
  },
  {
   "cell_type": "code",
   "execution_count": 3,
   "metadata": {},
   "outputs": [],
   "source": [
    "# Subject_ID, startdate and enddate has been dropped because they don't provide useful information.\n",
    "\n",
    "dataset = dataset.drop(columns = [\"Subject_ID\",\"startdate\",\"enddate\"])"
   ]
  },
  {
   "cell_type": "code",
   "execution_count": 4,
   "metadata": {},
   "outputs": [
    {
     "data": {
      "text/plain": [
       "array(['Relaxation', 'Anxiety', 'Fear', 'Sadness', 'Desire', 'Anger',\n",
       "       'Disgust', 'Happiness'], dtype=object)"
      ]
     },
     "execution_count": 4,
     "metadata": {},
     "output_type": "execute_result"
    }
   ],
   "source": [
    "# Target variables' uniques entities explored.\n",
    "\n",
    "dataset[\"chosen_emotion\"].unique()"
   ]
  },
  {
   "cell_type": "code",
   "execution_count": 5,
   "metadata": {},
   "outputs": [
    {
     "data": {
      "text/plain": [
       "0    0.839823\n",
       "1    0.160177\n",
       "Name: chosen_emotion, dtype: float64"
      ]
     },
     "execution_count": 5,
     "metadata": {},
     "output_type": "execute_result"
    }
   ],
   "source": [
    "# New classes created by assigning negative emotions to \"0\" and positive emotions to \"1\". \n",
    "\n",
    "def classes_def(x):\n",
    "    if x ==  \"Anxiety\":\n",
    "        return \"0\"\n",
    "    elif x == \"Fear\":\n",
    "        return \"0\"\n",
    "    elif x == \"Sadness\":\n",
    "        return \"0\"\n",
    "    elif x ==  \"Anger\":\n",
    "        return \"0\"\n",
    "    elif x ==  \"Disgust\":\n",
    "        return \"0\"\n",
    "    else:\n",
    "        return \"1\"\n",
    "    \n",
    "\n",
    "dataset['chosen_emotion']=dataset['chosen_emotion'].apply(lambda x:classes_def(x))\n",
    "\n",
    "\n",
    "dataset.chosen_emotion.value_counts(normalize= True)\n"
   ]
  },
  {
   "cell_type": "code",
   "execution_count": 6,
   "metadata": {},
   "outputs": [],
   "source": [
    "# Float values converted to integer values.\n",
    "\n",
    "dataset['chosen_emotion'] = dataset['chosen_emotion'].astype(int)"
   ]
  },
  {
   "cell_type": "code",
   "execution_count": 7,
   "metadata": {},
   "outputs": [
    {
     "data": {
      "text/html": [
       "<div>\n",
       "<style scoped>\n",
       "    .dataframe tbody tr th:only-of-type {\n",
       "        vertical-align: middle;\n",
       "    }\n",
       "\n",
       "    .dataframe tbody tr th {\n",
       "        vertical-align: top;\n",
       "    }\n",
       "\n",
       "    .dataframe thead th {\n",
       "        text-align: right;\n",
       "    }\n",
       "</style>\n",
       "<table border=\"1\" class=\"dataframe\">\n",
       "  <thead>\n",
       "    <tr style=\"text-align: right;\">\n",
       "      <th></th>\n",
       "      <th>duration</th>\n",
       "      <th>worry</th>\n",
       "      <th>chosen_emotion</th>\n",
       "      <th>anger</th>\n",
       "      <th>disgust</th>\n",
       "      <th>fear</th>\n",
       "      <th>anxiety</th>\n",
       "      <th>sadness</th>\n",
       "      <th>happiness</th>\n",
       "      <th>relaxation</th>\n",
       "      <th>desire</th>\n",
       "      <th>self_rating_general</th>\n",
       "      <th>twitter_general_often</th>\n",
       "      <th>twitter_tweet_often</th>\n",
       "      <th>twitter_participate_often</th>\n",
       "      <th>eng_native</th>\n",
       "    </tr>\n",
       "  </thead>\n",
       "  <tbody>\n",
       "    <tr>\n",
       "      <th>0</th>\n",
       "      <td>298</td>\n",
       "      <td>4.0</td>\n",
       "      <td>1</td>\n",
       "      <td>3.0</td>\n",
       "      <td>4.0</td>\n",
       "      <td>3.0</td>\n",
       "      <td>4.0</td>\n",
       "      <td>2.0</td>\n",
       "      <td>3.0</td>\n",
       "      <td>6.0</td>\n",
       "      <td>6.0</td>\n",
       "      <td>4.0</td>\n",
       "      <td>7.0</td>\n",
       "      <td>5.0</td>\n",
       "      <td>7.0</td>\n",
       "      <td>Yes</td>\n",
       "    </tr>\n",
       "    <tr>\n",
       "      <th>1</th>\n",
       "      <td>262</td>\n",
       "      <td>6.0</td>\n",
       "      <td>0</td>\n",
       "      <td>1.0</td>\n",
       "      <td>1.0</td>\n",
       "      <td>5.0</td>\n",
       "      <td>8.0</td>\n",
       "      <td>6.0</td>\n",
       "      <td>3.0</td>\n",
       "      <td>1.0</td>\n",
       "      <td>1.0</td>\n",
       "      <td>6.0</td>\n",
       "      <td>9.0</td>\n",
       "      <td>5.0</td>\n",
       "      <td>2.0</td>\n",
       "      <td>Yes</td>\n",
       "    </tr>\n",
       "    <tr>\n",
       "      <th>2</th>\n",
       "      <td>285</td>\n",
       "      <td>5.0</td>\n",
       "      <td>0</td>\n",
       "      <td>6.0</td>\n",
       "      <td>5.0</td>\n",
       "      <td>8.0</td>\n",
       "      <td>7.0</td>\n",
       "      <td>6.0</td>\n",
       "      <td>2.0</td>\n",
       "      <td>2.0</td>\n",
       "      <td>2.0</td>\n",
       "      <td>6.0</td>\n",
       "      <td>7.0</td>\n",
       "      <td>3.0</td>\n",
       "      <td>3.0</td>\n",
       "      <td>Yes</td>\n",
       "    </tr>\n",
       "    <tr>\n",
       "      <th>3</th>\n",
       "      <td>299</td>\n",
       "      <td>4.0</td>\n",
       "      <td>0</td>\n",
       "      <td>2.0</td>\n",
       "      <td>1.0</td>\n",
       "      <td>3.0</td>\n",
       "      <td>4.0</td>\n",
       "      <td>1.0</td>\n",
       "      <td>4.0</td>\n",
       "      <td>5.0</td>\n",
       "      <td>2.0</td>\n",
       "      <td>6.0</td>\n",
       "      <td>9.0</td>\n",
       "      <td>6.0</td>\n",
       "      <td>7.0</td>\n",
       "      <td>Yes</td>\n",
       "    </tr>\n",
       "    <tr>\n",
       "      <th>4</th>\n",
       "      <td>328</td>\n",
       "      <td>9.0</td>\n",
       "      <td>0</td>\n",
       "      <td>5.0</td>\n",
       "      <td>6.0</td>\n",
       "      <td>9.0</td>\n",
       "      <td>8.0</td>\n",
       "      <td>8.0</td>\n",
       "      <td>2.0</td>\n",
       "      <td>1.0</td>\n",
       "      <td>1.0</td>\n",
       "      <td>9.0</td>\n",
       "      <td>9.0</td>\n",
       "      <td>1.0</td>\n",
       "      <td>2.0</td>\n",
       "      <td>Yes</td>\n",
       "    </tr>\n",
       "  </tbody>\n",
       "</table>\n",
       "</div>"
      ],
      "text/plain": [
       "   duration  worry  chosen_emotion  anger  disgust  fear  anxiety  sadness  \\\n",
       "0       298    4.0               1    3.0      4.0   3.0      4.0      2.0   \n",
       "1       262    6.0               0    1.0      1.0   5.0      8.0      6.0   \n",
       "2       285    5.0               0    6.0      5.0   8.0      7.0      6.0   \n",
       "3       299    4.0               0    2.0      1.0   3.0      4.0      1.0   \n",
       "4       328    9.0               0    5.0      6.0   9.0      8.0      8.0   \n",
       "\n",
       "   happiness  relaxation  desire  self_rating_general  twitter_general_often  \\\n",
       "0        3.0         6.0     6.0                  4.0                    7.0   \n",
       "1        3.0         1.0     1.0                  6.0                    9.0   \n",
       "2        2.0         2.0     2.0                  6.0                    7.0   \n",
       "3        4.0         5.0     2.0                  6.0                    9.0   \n",
       "4        2.0         1.0     1.0                  9.0                    9.0   \n",
       "\n",
       "   twitter_tweet_often  twitter_participate_often eng_native  \n",
       "0                  5.0                        7.0        Yes  \n",
       "1                  5.0                        2.0        Yes  \n",
       "2                  3.0                        3.0        Yes  \n",
       "3                  6.0                        7.0        Yes  \n",
       "4                  1.0                        2.0        Yes  "
      ]
     },
     "execution_count": 7,
     "metadata": {},
     "output_type": "execute_result"
    }
   ],
   "source": [
    "# Checked whether the 'chosen_emotion' column corrected.\n",
    "\n",
    "dataset.head()"
   ]
  },
  {
   "cell_type": "code",
   "execution_count": 8,
   "metadata": {},
   "outputs": [
    {
     "name": "stdout",
     "output_type": "stream",
     "text": [
      "<class 'pandas.core.frame.DataFrame'>\n",
      "RangeIndex: 2491 entries, 0 to 2490\n",
      "Data columns (total 16 columns):\n",
      " #   Column                     Non-Null Count  Dtype  \n",
      "---  ------                     --------------  -----  \n",
      " 0   duration                   2491 non-null   int64  \n",
      " 1   worry                      2487 non-null   float64\n",
      " 2   chosen_emotion             2491 non-null   int32  \n",
      " 3   anger                      2487 non-null   float64\n",
      " 4   disgust                    2487 non-null   float64\n",
      " 5   fear                       2487 non-null   float64\n",
      " 6   anxiety                    2487 non-null   float64\n",
      " 7   sadness                    2487 non-null   float64\n",
      " 8   happiness                  2487 non-null   float64\n",
      " 9   relaxation                 2487 non-null   float64\n",
      " 10  desire                     2487 non-null   float64\n",
      " 11  self_rating_general        2490 non-null   float64\n",
      " 12  twitter_general_often      2490 non-null   float64\n",
      " 13  twitter_tweet_often        2490 non-null   float64\n",
      " 14  twitter_participate_often  2490 non-null   float64\n",
      " 15  eng_native                 2491 non-null   object \n",
      "dtypes: float64(13), int32(1), int64(1), object(1)\n",
      "memory usage: 301.8+ KB\n"
     ]
    }
   ],
   "source": [
    "# Information of the dataset printed.\n",
    "\n",
    "dataset.info()"
   ]
  },
  {
   "cell_type": "code",
   "execution_count": 9,
   "metadata": {},
   "outputs": [
    {
     "data": {
      "text/plain": [
       "desire                       0.16\n",
       "relaxation                   0.16\n",
       "happiness                    0.16\n",
       "sadness                      0.16\n",
       "anxiety                      0.16\n",
       "fear                         0.16\n",
       "disgust                      0.16\n",
       "anger                        0.16\n",
       "worry                        0.16\n",
       "twitter_participate_often    0.04\n",
       "twitter_tweet_often          0.04\n",
       "twitter_general_often        0.04\n",
       "self_rating_general          0.04\n",
       "eng_native                   0.00\n",
       "chosen_emotion               0.00\n",
       "dtype: float64"
      ]
     },
     "execution_count": 9,
     "metadata": {},
     "output_type": "execute_result"
    }
   ],
   "source": [
    "# Missing Values % contribution calculated. \n",
    "\n",
    "dataset_null = dataset.isna().mean().round(4) * 100\n",
    "\n",
    "dataset_null.sort_values(ascending=False).head(15)"
   ]
  },
  {
   "cell_type": "code",
   "execution_count": 10,
   "metadata": {},
   "outputs": [
    {
     "name": "stdout",
     "output_type": "stream",
     "text": [
      "** Null:\n",
      "duration                     False\n",
      "worry                         True\n",
      "chosen_emotion               False\n",
      "anger                         True\n",
      "disgust                       True\n",
      "fear                          True\n",
      "anxiety                       True\n",
      "sadness                       True\n",
      "happiness                     True\n",
      "relaxation                    True\n",
      "desire                        True\n",
      "self_rating_general           True\n",
      "twitter_general_often         True\n",
      "twitter_tweet_often           True\n",
      "twitter_participate_often     True\n",
      "eng_native                   False\n",
      "dtype: bool\n",
      "\n",
      "\n",
      "** NaN:\n",
      "duration                     False\n",
      "worry                         True\n",
      "chosen_emotion               False\n",
      "anger                         True\n",
      "disgust                       True\n",
      "fear                          True\n",
      "anxiety                       True\n",
      "sadness                       True\n",
      "happiness                     True\n",
      "relaxation                    True\n",
      "desire                        True\n",
      "self_rating_general           True\n",
      "twitter_general_often         True\n",
      "twitter_tweet_often           True\n",
      "twitter_participate_often     True\n",
      "eng_native                   False\n",
      "dtype: bool\n"
     ]
    }
   ],
   "source": [
    "# Checked whether there are NaN values or empty cells.\n",
    "\n",
    "print('** Null:')\n",
    "print(dataset.isnull().any())\n",
    "print('\\n')\n",
    "print('** NaN:')\n",
    "print(dataset.isna().any())"
   ]
  },
  {
   "cell_type": "markdown",
   "metadata": {},
   "source": [
    "As seen above, there are lots of NaN values. In order to deal with them, each of the variable's mean can be replaced instead."
   ]
  },
  {
   "cell_type": "code",
   "execution_count": 11,
   "metadata": {},
   "outputs": [],
   "source": [
    "# Filling NaN values with the variable means.\n",
    "\n",
    "dataset['worry'].fillna((dataset['worry'].mean()), inplace=True)\n",
    "dataset['anger'].fillna((dataset['anger'].mean()), inplace=True)\n",
    "dataset['disgust'].fillna((dataset['disgust'].mean()), inplace=True)\n",
    "dataset['fear'].fillna((dataset['fear'].mean()), inplace=True)\n",
    "dataset['anxiety'].fillna((dataset['anxiety'].mean()), inplace=True)\n",
    "dataset['sadness'].fillna((dataset['sadness'].mean()), inplace=True)\n",
    "dataset['happiness'].fillna((dataset['happiness'].mean()), inplace=True)\n",
    "dataset['relaxation'].fillna((dataset['relaxation'].mean()), inplace=True)\n",
    "dataset['desire'].fillna((dataset['desire'].mean()), inplace=True)\n",
    "dataset['self_rating_general'].fillna((dataset['self_rating_general'].mean()), inplace=True)\n",
    "dataset['twitter_general_often'].fillna((dataset['twitter_general_often'].mean()), inplace=True)\n",
    "dataset['twitter_tweet_often'].fillna((dataset['twitter_tweet_often'].mean()), inplace=True)\n",
    "dataset['twitter_participate_often'].fillna((dataset['twitter_participate_often'].mean()), inplace=True)"
   ]
  },
  {
   "cell_type": "code",
   "execution_count": 12,
   "metadata": {},
   "outputs": [
    {
     "data": {
      "text/plain": [
       "eng_native                   0.0\n",
       "twitter_participate_often    0.0\n",
       "twitter_tweet_often          0.0\n",
       "twitter_general_often        0.0\n",
       "self_rating_general          0.0\n",
       "desire                       0.0\n",
       "relaxation                   0.0\n",
       "happiness                    0.0\n",
       "sadness                      0.0\n",
       "anxiety                      0.0\n",
       "fear                         0.0\n",
       "disgust                      0.0\n",
       "anger                        0.0\n",
       "chosen_emotion               0.0\n",
       "worry                        0.0\n",
       "dtype: float64"
      ]
     },
     "execution_count": 12,
     "metadata": {},
     "output_type": "execute_result"
    }
   ],
   "source": [
    "# Checked whether variables have replaced or not.\n",
    "\n",
    "dataset_null = dataset.isna().mean().round(4) * 100\n",
    "\n",
    "dataset_null.sort_values(ascending=False).head(15)"
   ]
  },
  {
   "cell_type": "code",
   "execution_count": 13,
   "metadata": {},
   "outputs": [
    {
     "data": {
      "text/html": [
       "<div>\n",
       "<style scoped>\n",
       "    .dataframe tbody tr th:only-of-type {\n",
       "        vertical-align: middle;\n",
       "    }\n",
       "\n",
       "    .dataframe tbody tr th {\n",
       "        vertical-align: top;\n",
       "    }\n",
       "\n",
       "    .dataframe thead th {\n",
       "        text-align: right;\n",
       "    }\n",
       "</style>\n",
       "<table border=\"1\" class=\"dataframe\">\n",
       "  <thead>\n",
       "    <tr style=\"text-align: right;\">\n",
       "      <th></th>\n",
       "      <th>duration</th>\n",
       "      <th>worry</th>\n",
       "      <th>chosen_emotion</th>\n",
       "      <th>anger</th>\n",
       "      <th>disgust</th>\n",
       "      <th>fear</th>\n",
       "      <th>anxiety</th>\n",
       "      <th>sadness</th>\n",
       "      <th>happiness</th>\n",
       "      <th>relaxation</th>\n",
       "      <th>desire</th>\n",
       "      <th>self_rating_general</th>\n",
       "      <th>twitter_general_often</th>\n",
       "      <th>twitter_tweet_often</th>\n",
       "      <th>twitter_participate_often</th>\n",
       "    </tr>\n",
       "  </thead>\n",
       "  <tbody>\n",
       "    <tr>\n",
       "      <th>count</th>\n",
       "      <td>2491.000000</td>\n",
       "      <td>2491.000000</td>\n",
       "      <td>2491.000000</td>\n",
       "      <td>2491.000000</td>\n",
       "      <td>2491.000000</td>\n",
       "      <td>2491.000000</td>\n",
       "      <td>2491.000000</td>\n",
       "      <td>2491.000000</td>\n",
       "      <td>2491.000000</td>\n",
       "      <td>2491.000000</td>\n",
       "      <td>2491.000000</td>\n",
       "      <td>2491.000000</td>\n",
       "      <td>2491.000000</td>\n",
       "      <td>2491.000000</td>\n",
       "      <td>2491.000000</td>\n",
       "    </tr>\n",
       "    <tr>\n",
       "      <th>mean</th>\n",
       "      <td>589.710558</td>\n",
       "      <td>6.554483</td>\n",
       "      <td>0.160177</td>\n",
       "      <td>3.906313</td>\n",
       "      <td>3.228790</td>\n",
       "      <td>5.668275</td>\n",
       "      <td>6.484520</td>\n",
       "      <td>5.589063</td>\n",
       "      <td>3.624849</td>\n",
       "      <td>3.952553</td>\n",
       "      <td>2.974668</td>\n",
       "      <td>6.883534</td>\n",
       "      <td>6.257028</td>\n",
       "      <td>3.664257</td>\n",
       "      <td>3.414056</td>\n",
       "    </tr>\n",
       "    <tr>\n",
       "      <th>std</th>\n",
       "      <td>394.880211</td>\n",
       "      <td>1.761294</td>\n",
       "      <td>0.366843</td>\n",
       "      <td>2.234376</td>\n",
       "      <td>2.133574</td>\n",
       "      <td>2.272882</td>\n",
       "      <td>2.276222</td>\n",
       "      <td>2.310272</td>\n",
       "      <td>1.886007</td>\n",
       "      <td>2.124480</td>\n",
       "      <td>2.036948</td>\n",
       "      <td>1.686972</td>\n",
       "      <td>2.804722</td>\n",
       "      <td>2.520066</td>\n",
       "      <td>2.402317</td>\n",
       "    </tr>\n",
       "    <tr>\n",
       "      <th>min</th>\n",
       "      <td>176.000000</td>\n",
       "      <td>1.000000</td>\n",
       "      <td>0.000000</td>\n",
       "      <td>1.000000</td>\n",
       "      <td>1.000000</td>\n",
       "      <td>1.000000</td>\n",
       "      <td>1.000000</td>\n",
       "      <td>1.000000</td>\n",
       "      <td>1.000000</td>\n",
       "      <td>1.000000</td>\n",
       "      <td>1.000000</td>\n",
       "      <td>1.000000</td>\n",
       "      <td>1.000000</td>\n",
       "      <td>1.000000</td>\n",
       "      <td>1.000000</td>\n",
       "    </tr>\n",
       "    <tr>\n",
       "      <th>25%</th>\n",
       "      <td>380.500000</td>\n",
       "      <td>6.000000</td>\n",
       "      <td>0.000000</td>\n",
       "      <td>2.000000</td>\n",
       "      <td>1.000000</td>\n",
       "      <td>4.000000</td>\n",
       "      <td>5.000000</td>\n",
       "      <td>4.000000</td>\n",
       "      <td>2.000000</td>\n",
       "      <td>2.000000</td>\n",
       "      <td>1.000000</td>\n",
       "      <td>6.000000</td>\n",
       "      <td>3.000000</td>\n",
       "      <td>2.000000</td>\n",
       "      <td>1.000000</td>\n",
       "    </tr>\n",
       "    <tr>\n",
       "      <th>50%</th>\n",
       "      <td>491.000000</td>\n",
       "      <td>7.000000</td>\n",
       "      <td>0.000000</td>\n",
       "      <td>3.906313</td>\n",
       "      <td>3.000000</td>\n",
       "      <td>6.000000</td>\n",
       "      <td>7.000000</td>\n",
       "      <td>6.000000</td>\n",
       "      <td>4.000000</td>\n",
       "      <td>4.000000</td>\n",
       "      <td>2.000000</td>\n",
       "      <td>7.000000</td>\n",
       "      <td>7.000000</td>\n",
       "      <td>3.000000</td>\n",
       "      <td>3.000000</td>\n",
       "    </tr>\n",
       "    <tr>\n",
       "      <th>75%</th>\n",
       "      <td>678.500000</td>\n",
       "      <td>8.000000</td>\n",
       "      <td>0.000000</td>\n",
       "      <td>6.000000</td>\n",
       "      <td>5.000000</td>\n",
       "      <td>7.000000</td>\n",
       "      <td>8.000000</td>\n",
       "      <td>7.000000</td>\n",
       "      <td>5.000000</td>\n",
       "      <td>5.000000</td>\n",
       "      <td>4.000000</td>\n",
       "      <td>8.000000</td>\n",
       "      <td>9.000000</td>\n",
       "      <td>6.000000</td>\n",
       "      <td>5.000000</td>\n",
       "    </tr>\n",
       "    <tr>\n",
       "      <th>max</th>\n",
       "      <td>9515.000000</td>\n",
       "      <td>9.000000</td>\n",
       "      <td>1.000000</td>\n",
       "      <td>9.000000</td>\n",
       "      <td>9.000000</td>\n",
       "      <td>9.000000</td>\n",
       "      <td>9.000000</td>\n",
       "      <td>9.000000</td>\n",
       "      <td>9.000000</td>\n",
       "      <td>9.000000</td>\n",
       "      <td>9.000000</td>\n",
       "      <td>9.000000</td>\n",
       "      <td>9.000000</td>\n",
       "      <td>9.000000</td>\n",
       "      <td>9.000000</td>\n",
       "    </tr>\n",
       "  </tbody>\n",
       "</table>\n",
       "</div>"
      ],
      "text/plain": [
       "          duration        worry  chosen_emotion        anger      disgust  \\\n",
       "count  2491.000000  2491.000000     2491.000000  2491.000000  2491.000000   \n",
       "mean    589.710558     6.554483        0.160177     3.906313     3.228790   \n",
       "std     394.880211     1.761294        0.366843     2.234376     2.133574   \n",
       "min     176.000000     1.000000        0.000000     1.000000     1.000000   \n",
       "25%     380.500000     6.000000        0.000000     2.000000     1.000000   \n",
       "50%     491.000000     7.000000        0.000000     3.906313     3.000000   \n",
       "75%     678.500000     8.000000        0.000000     6.000000     5.000000   \n",
       "max    9515.000000     9.000000        1.000000     9.000000     9.000000   \n",
       "\n",
       "              fear      anxiety      sadness    happiness   relaxation  \\\n",
       "count  2491.000000  2491.000000  2491.000000  2491.000000  2491.000000   \n",
       "mean      5.668275     6.484520     5.589063     3.624849     3.952553   \n",
       "std       2.272882     2.276222     2.310272     1.886007     2.124480   \n",
       "min       1.000000     1.000000     1.000000     1.000000     1.000000   \n",
       "25%       4.000000     5.000000     4.000000     2.000000     2.000000   \n",
       "50%       6.000000     7.000000     6.000000     4.000000     4.000000   \n",
       "75%       7.000000     8.000000     7.000000     5.000000     5.000000   \n",
       "max       9.000000     9.000000     9.000000     9.000000     9.000000   \n",
       "\n",
       "            desire  self_rating_general  twitter_general_often  \\\n",
       "count  2491.000000          2491.000000            2491.000000   \n",
       "mean      2.974668             6.883534               6.257028   \n",
       "std       2.036948             1.686972               2.804722   \n",
       "min       1.000000             1.000000               1.000000   \n",
       "25%       1.000000             6.000000               3.000000   \n",
       "50%       2.000000             7.000000               7.000000   \n",
       "75%       4.000000             8.000000               9.000000   \n",
       "max       9.000000             9.000000               9.000000   \n",
       "\n",
       "       twitter_tweet_often  twitter_participate_often  \n",
       "count          2491.000000                2491.000000  \n",
       "mean              3.664257                   3.414056  \n",
       "std               2.520066                   2.402317  \n",
       "min               1.000000                   1.000000  \n",
       "25%               2.000000                   1.000000  \n",
       "50%               3.000000                   3.000000  \n",
       "75%               6.000000                   5.000000  \n",
       "max               9.000000                   9.000000  "
      ]
     },
     "execution_count": 13,
     "metadata": {},
     "output_type": "execute_result"
    }
   ],
   "source": [
    "# Basic statistics summarized.\n",
    "dataset.describe()"
   ]
  },
  {
   "cell_type": "code",
   "execution_count": 14,
   "metadata": {},
   "outputs": [],
   "source": [
    "# Categorical and numerical variables categorized\n",
    "\n",
    "num_var = dataset.drop(columns=['chosen_emotion']).select_dtypes([np.number]).columns\n",
    "cat_var = dataset.drop(columns=['chosen_emotion']).select_dtypes(include=object ).columns"
   ]
  },
  {
   "cell_type": "code",
   "execution_count": 15,
   "metadata": {},
   "outputs": [
    {
     "data": {
      "text/plain": [
       "Index(['duration', 'worry', 'anger', 'disgust', 'fear', 'anxiety', 'sadness',\n",
       "       'happiness', 'relaxation', 'desire', 'self_rating_general',\n",
       "       'twitter_general_often', 'twitter_tweet_often',\n",
       "       'twitter_participate_often'],\n",
       "      dtype='object')"
      ]
     },
     "execution_count": 15,
     "metadata": {},
     "output_type": "execute_result"
    }
   ],
   "source": [
    "# Numerical Variables\n",
    "\n",
    "num_var"
   ]
  },
  {
   "cell_type": "code",
   "execution_count": 16,
   "metadata": {},
   "outputs": [
    {
     "data": {
      "text/plain": [
       "Index(['eng_native'], dtype='object')"
      ]
     },
     "execution_count": 16,
     "metadata": {},
     "output_type": "execute_result"
    }
   ],
   "source": [
    "# Categorical Variables\n",
    "\n",
    "cat_var"
   ]
  },
  {
   "cell_type": "code",
   "execution_count": 17,
   "metadata": {},
   "outputs": [
    {
     "data": {
      "text/html": [
       "<div>\n",
       "<style scoped>\n",
       "    .dataframe tbody tr th:only-of-type {\n",
       "        vertical-align: middle;\n",
       "    }\n",
       "\n",
       "    .dataframe tbody tr th {\n",
       "        vertical-align: top;\n",
       "    }\n",
       "\n",
       "    .dataframe thead th {\n",
       "        text-align: right;\n",
       "    }\n",
       "</style>\n",
       "<table border=\"1\" class=\"dataframe\">\n",
       "  <thead>\n",
       "    <tr style=\"text-align: right;\">\n",
       "      <th></th>\n",
       "      <th>duration</th>\n",
       "      <th>worry</th>\n",
       "      <th>chosen_emotion</th>\n",
       "      <th>anger</th>\n",
       "      <th>disgust</th>\n",
       "      <th>fear</th>\n",
       "      <th>anxiety</th>\n",
       "      <th>sadness</th>\n",
       "      <th>happiness</th>\n",
       "      <th>relaxation</th>\n",
       "      <th>desire</th>\n",
       "      <th>self_rating_general</th>\n",
       "      <th>twitter_general_often</th>\n",
       "      <th>twitter_tweet_often</th>\n",
       "      <th>twitter_participate_often</th>\n",
       "      <th>eng_native_No but I speak it fluently</th>\n",
       "      <th>eng_native_Yes</th>\n",
       "    </tr>\n",
       "  </thead>\n",
       "  <tbody>\n",
       "    <tr>\n",
       "      <th>0</th>\n",
       "      <td>298</td>\n",
       "      <td>4.0</td>\n",
       "      <td>1</td>\n",
       "      <td>3.0</td>\n",
       "      <td>4.0</td>\n",
       "      <td>3.0</td>\n",
       "      <td>4.0</td>\n",
       "      <td>2.0</td>\n",
       "      <td>3.0</td>\n",
       "      <td>6.0</td>\n",
       "      <td>6.0</td>\n",
       "      <td>4.0</td>\n",
       "      <td>7.0</td>\n",
       "      <td>5.0</td>\n",
       "      <td>7.0</td>\n",
       "      <td>0</td>\n",
       "      <td>1</td>\n",
       "    </tr>\n",
       "    <tr>\n",
       "      <th>1</th>\n",
       "      <td>262</td>\n",
       "      <td>6.0</td>\n",
       "      <td>0</td>\n",
       "      <td>1.0</td>\n",
       "      <td>1.0</td>\n",
       "      <td>5.0</td>\n",
       "      <td>8.0</td>\n",
       "      <td>6.0</td>\n",
       "      <td>3.0</td>\n",
       "      <td>1.0</td>\n",
       "      <td>1.0</td>\n",
       "      <td>6.0</td>\n",
       "      <td>9.0</td>\n",
       "      <td>5.0</td>\n",
       "      <td>2.0</td>\n",
       "      <td>0</td>\n",
       "      <td>1</td>\n",
       "    </tr>\n",
       "    <tr>\n",
       "      <th>2</th>\n",
       "      <td>285</td>\n",
       "      <td>5.0</td>\n",
       "      <td>0</td>\n",
       "      <td>6.0</td>\n",
       "      <td>5.0</td>\n",
       "      <td>8.0</td>\n",
       "      <td>7.0</td>\n",
       "      <td>6.0</td>\n",
       "      <td>2.0</td>\n",
       "      <td>2.0</td>\n",
       "      <td>2.0</td>\n",
       "      <td>6.0</td>\n",
       "      <td>7.0</td>\n",
       "      <td>3.0</td>\n",
       "      <td>3.0</td>\n",
       "      <td>0</td>\n",
       "      <td>1</td>\n",
       "    </tr>\n",
       "    <tr>\n",
       "      <th>3</th>\n",
       "      <td>299</td>\n",
       "      <td>4.0</td>\n",
       "      <td>0</td>\n",
       "      <td>2.0</td>\n",
       "      <td>1.0</td>\n",
       "      <td>3.0</td>\n",
       "      <td>4.0</td>\n",
       "      <td>1.0</td>\n",
       "      <td>4.0</td>\n",
       "      <td>5.0</td>\n",
       "      <td>2.0</td>\n",
       "      <td>6.0</td>\n",
       "      <td>9.0</td>\n",
       "      <td>6.0</td>\n",
       "      <td>7.0</td>\n",
       "      <td>0</td>\n",
       "      <td>1</td>\n",
       "    </tr>\n",
       "    <tr>\n",
       "      <th>4</th>\n",
       "      <td>328</td>\n",
       "      <td>9.0</td>\n",
       "      <td>0</td>\n",
       "      <td>5.0</td>\n",
       "      <td>6.0</td>\n",
       "      <td>9.0</td>\n",
       "      <td>8.0</td>\n",
       "      <td>8.0</td>\n",
       "      <td>2.0</td>\n",
       "      <td>1.0</td>\n",
       "      <td>1.0</td>\n",
       "      <td>9.0</td>\n",
       "      <td>9.0</td>\n",
       "      <td>1.0</td>\n",
       "      <td>2.0</td>\n",
       "      <td>0</td>\n",
       "      <td>1</td>\n",
       "    </tr>\n",
       "  </tbody>\n",
       "</table>\n",
       "</div>"
      ],
      "text/plain": [
       "   duration  worry  chosen_emotion  anger  disgust  fear  anxiety  sadness  \\\n",
       "0       298    4.0               1    3.0      4.0   3.0      4.0      2.0   \n",
       "1       262    6.0               0    1.0      1.0   5.0      8.0      6.0   \n",
       "2       285    5.0               0    6.0      5.0   8.0      7.0      6.0   \n",
       "3       299    4.0               0    2.0      1.0   3.0      4.0      1.0   \n",
       "4       328    9.0               0    5.0      6.0   9.0      8.0      8.0   \n",
       "\n",
       "   happiness  relaxation  desire  self_rating_general  twitter_general_often  \\\n",
       "0        3.0         6.0     6.0                  4.0                    7.0   \n",
       "1        3.0         1.0     1.0                  6.0                    9.0   \n",
       "2        2.0         2.0     2.0                  6.0                    7.0   \n",
       "3        4.0         5.0     2.0                  6.0                    9.0   \n",
       "4        2.0         1.0     1.0                  9.0                    9.0   \n",
       "\n",
       "   twitter_tweet_often  twitter_participate_often  \\\n",
       "0                  5.0                        7.0   \n",
       "1                  5.0                        2.0   \n",
       "2                  3.0                        3.0   \n",
       "3                  6.0                        7.0   \n",
       "4                  1.0                        2.0   \n",
       "\n",
       "   eng_native_No but I speak it fluently  eng_native_Yes  \n",
       "0                                      0               1  \n",
       "1                                      0               1  \n",
       "2                                      0               1  \n",
       "3                                      0               1  \n",
       "4                                      0               1  "
      ]
     },
     "execution_count": 17,
     "metadata": {},
     "output_type": "execute_result"
    }
   ],
   "source": [
    "# Dummies created.\n",
    "\n",
    "dataset_dummy=pd.get_dummies(dataset.copy(), dummy_na=False, drop_first=True)\n",
    "dataset_dummy.head()"
   ]
  },
  {
   "cell_type": "code",
   "execution_count": 18,
   "metadata": {},
   "outputs": [
    {
     "data": {
      "text/plain": [
       "Index(['duration', 'worry', 'anger', 'disgust', 'fear', 'anxiety', 'sadness',\n",
       "       'happiness', 'relaxation', 'desire', 'self_rating_general',\n",
       "       'twitter_general_often', 'twitter_tweet_often',\n",
       "       'twitter_participate_often', 'eng_native_No but I speak it fluently',\n",
       "       'eng_native_Yes'],\n",
       "      dtype='object')"
      ]
     },
     "execution_count": 18,
     "metadata": {},
     "output_type": "execute_result"
    }
   ],
   "source": [
    "X = dataset_dummy.drop('chosen_emotion',axis=1)\n",
    "y = dataset_dummy['chosen_emotion']\n",
    "X_col=X.columns\n",
    "X_col"
   ]
  },
  {
   "cell_type": "markdown",
   "metadata": {},
   "source": [
    "## 3. LOGISTIC REGRESSION REGULARIZATION"
   ]
  },
  {
   "cell_type": "code",
   "execution_count": 19,
   "metadata": {},
   "outputs": [],
   "source": [
    "# X variables scaled.\n",
    "\n",
    "scaler = preprocessing.StandardScaler()\n",
    "X = scaler.fit_transform(X)"
   ]
  },
  {
   "cell_type": "code",
   "execution_count": 20,
   "metadata": {},
   "outputs": [],
   "source": [
    "# Dataset splitted into training set and test set.\n",
    "\n",
    "X_train, X_test, y_train, y_test = train_test_split(X, y, test_size=0.2, random_state=1, stratify=y)"
   ]
  },
  {
   "cell_type": "code",
   "execution_count": 21,
   "metadata": {},
   "outputs": [
    {
     "data": {
      "text/plain": [
       "array([0.87      , 0.89      , 0.88442211, 0.88944724, 0.85929648,\n",
       "       0.87437186, 0.81909548, 0.87939698, 0.88442211, 0.87939698])"
      ]
     },
     "execution_count": 21,
     "metadata": {},
     "output_type": "execute_result"
    }
   ],
   "source": [
    "# For regularization cost parameter setted to be 0.001. Also cross validation used for preventing overfitting.\n",
    "\n",
    "logreg = LogisticRegression(C=0.001,penalty='l2',max_iter=1000)\n",
    "logreg.fit(X_train, y_train)    \n",
    "scoreCV = cross_val_score(logreg, X_train, y_train, scoring='accuracy',\n",
    "                             cv=KFold(n_splits=10, shuffle=True,\n",
    "                                            random_state=1))\n",
    "scoreCV"
   ]
  },
  {
   "cell_type": "code",
   "execution_count": 22,
   "metadata": {},
   "outputs": [
    {
     "data": {
      "text/plain": [
       "0.8729849246231156"
      ]
     },
     "execution_count": 22,
     "metadata": {},
     "output_type": "execute_result"
    }
   ],
   "source": [
    "# Mean of the cross validated accuracies are printed.\n",
    "\n",
    "np.mean(scoreCV)"
   ]
  },
  {
   "cell_type": "code",
   "execution_count": 23,
   "metadata": {},
   "outputs": [
    {
     "name": "stdout",
     "output_type": "stream",
     "text": [
      "                                Variables  Coefficients\n",
      "0                               Intercept     -1.938949\n",
      "1                                duration      0.015007\n",
      "2                                   worry     -0.146999\n",
      "3                                   anger     -0.108643\n",
      "4                                 disgust     -0.069676\n",
      "5                                    fear     -0.158002\n",
      "6                                 anxiety     -0.231871\n",
      "7                                 sadness     -0.164352\n",
      "8                               happiness      0.149253\n",
      "9                              relaxation      0.234220\n",
      "10                                 desire      0.050100\n",
      "11                    self_rating_general      0.013943\n",
      "12                  twitter_general_often      0.004568\n",
      "13                    twitter_tweet_often     -0.016271\n",
      "14              twitter_participate_often     -0.019025\n",
      "15  eng_native_No but I speak it fluently      0.008128\n",
      "16                         eng_native_Yes     -0.005992\n"
     ]
    }
   ],
   "source": [
    "# First iteration coefficient results printed.\n",
    "\n",
    "Model_intercept = pd.DataFrame({\"Variables\":'Intercept',\"Coefficients\":logreg.intercept_[0]},index=[0])\n",
    "Model_coefficients = pd.DataFrame({\"Variables\":X_col,\"Coefficients\":np.transpose(logreg.coef_[0])})\n",
    "Model_coefficients = pd.concat([Model_intercept,Model_coefficients]).reset_index(drop=True)\n",
    "print(Model_coefficients)"
   ]
  },
  {
   "cell_type": "code",
   "execution_count": 24,
   "metadata": {},
   "outputs": [],
   "source": [
    "# Rather than trying C values one by one, it can be done using for loop with range of C parameters.\n",
    "\n",
    "C_param_range = [0.001,0.01,0.1,1,10,100,1000,10000]\n",
    "scoresCV = []\n",
    "for c in C_param_range:\n",
    "    logreg = LogisticRegression(C=c,penalty='l2',max_iter=1000)\n",
    "    logreg.fit(X_train, y_train)    \n",
    "    scoreCV = cross_val_score(logreg, X_train, y_train, scoring='accuracy',\n",
    "                             cv=KFold(n_splits=10, shuffle=True,\n",
    "                                            random_state=1))\n",
    "    scoresCV.append([c,np.mean(scoreCV)])\n"
   ]
  },
  {
   "cell_type": "code",
   "execution_count": 25,
   "metadata": {
    "scrolled": true
   },
   "outputs": [
    {
     "data": {
      "text/html": [
       "<div>\n",
       "<style scoped>\n",
       "    .dataframe tbody tr th:only-of-type {\n",
       "        vertical-align: middle;\n",
       "    }\n",
       "\n",
       "    .dataframe tbody tr th {\n",
       "        vertical-align: top;\n",
       "    }\n",
       "\n",
       "    .dataframe thead th {\n",
       "        text-align: right;\n",
       "    }\n",
       "</style>\n",
       "<table border=\"1\" class=\"dataframe\">\n",
       "  <thead>\n",
       "    <tr style=\"text-align: right;\">\n",
       "      <th></th>\n",
       "      <th>C (1/lambda)</th>\n",
       "      <th>Validation Accuracy</th>\n",
       "    </tr>\n",
       "  </thead>\n",
       "  <tbody>\n",
       "    <tr>\n",
       "      <th>0</th>\n",
       "      <td>0.001</td>\n",
       "      <td>0.872985</td>\n",
       "    </tr>\n",
       "    <tr>\n",
       "      <th>1</th>\n",
       "      <td>0.010</td>\n",
       "      <td>0.928216</td>\n",
       "    </tr>\n",
       "    <tr>\n",
       "      <th>2</th>\n",
       "      <td>0.100</td>\n",
       "      <td>0.937749</td>\n",
       "    </tr>\n",
       "    <tr>\n",
       "      <th>3</th>\n",
       "      <td>1.000</td>\n",
       "      <td>0.936746</td>\n",
       "    </tr>\n",
       "    <tr>\n",
       "      <th>4</th>\n",
       "      <td>10.000</td>\n",
       "      <td>0.937251</td>\n",
       "    </tr>\n",
       "    <tr>\n",
       "      <th>5</th>\n",
       "      <td>100.000</td>\n",
       "      <td>0.937251</td>\n",
       "    </tr>\n",
       "    <tr>\n",
       "      <th>6</th>\n",
       "      <td>1000.000</td>\n",
       "      <td>0.937251</td>\n",
       "    </tr>\n",
       "    <tr>\n",
       "      <th>7</th>\n",
       "      <td>10000.000</td>\n",
       "      <td>0.937251</td>\n",
       "    </tr>\n",
       "  </tbody>\n",
       "</table>\n",
       "</div>"
      ],
      "text/plain": [
       "   C (1/lambda)  Validation Accuracy\n",
       "0         0.001             0.872985\n",
       "1         0.010             0.928216\n",
       "2         0.100             0.937749\n",
       "3         1.000             0.936746\n",
       "4        10.000             0.937251\n",
       "5       100.000             0.937251\n",
       "6      1000.000             0.937251\n",
       "7     10000.000             0.937251"
      ]
     },
     "execution_count": 25,
     "metadata": {},
     "output_type": "execute_result"
    }
   ],
   "source": [
    "# Scores of the cost parameters printed.\n",
    "\n",
    "df = pd.DataFrame(scoresCV,columns=['C (1/lambda)','Validation Accuracy'])\n",
    "df"
   ]
  },
  {
   "cell_type": "code",
   "execution_count": 26,
   "metadata": {},
   "outputs": [
    {
     "data": {
      "text/html": [
       "<div>\n",
       "<style scoped>\n",
       "    .dataframe tbody tr th:only-of-type {\n",
       "        vertical-align: middle;\n",
       "    }\n",
       "\n",
       "    .dataframe tbody tr th {\n",
       "        vertical-align: top;\n",
       "    }\n",
       "\n",
       "    .dataframe thead th {\n",
       "        text-align: right;\n",
       "    }\n",
       "</style>\n",
       "<table border=\"1\" class=\"dataframe\">\n",
       "  <thead>\n",
       "    <tr style=\"text-align: right;\">\n",
       "      <th></th>\n",
       "      <th>C (1/lambda)</th>\n",
       "      <th>Validation Accuracy</th>\n",
       "    </tr>\n",
       "  </thead>\n",
       "  <tbody>\n",
       "    <tr>\n",
       "      <th>7</th>\n",
       "      <td>10000.000</td>\n",
       "      <td>0.937251</td>\n",
       "    </tr>\n",
       "    <tr>\n",
       "      <th>6</th>\n",
       "      <td>1000.000</td>\n",
       "      <td>0.937251</td>\n",
       "    </tr>\n",
       "    <tr>\n",
       "      <th>5</th>\n",
       "      <td>100.000</td>\n",
       "      <td>0.937251</td>\n",
       "    </tr>\n",
       "    <tr>\n",
       "      <th>4</th>\n",
       "      <td>10.000</td>\n",
       "      <td>0.937251</td>\n",
       "    </tr>\n",
       "    <tr>\n",
       "      <th>3</th>\n",
       "      <td>1.000</td>\n",
       "      <td>0.936746</td>\n",
       "    </tr>\n",
       "    <tr>\n",
       "      <th>2</th>\n",
       "      <td>0.100</td>\n",
       "      <td>0.937749</td>\n",
       "    </tr>\n",
       "    <tr>\n",
       "      <th>1</th>\n",
       "      <td>0.010</td>\n",
       "      <td>0.928216</td>\n",
       "    </tr>\n",
       "    <tr>\n",
       "      <th>0</th>\n",
       "      <td>0.001</td>\n",
       "      <td>0.872985</td>\n",
       "    </tr>\n",
       "  </tbody>\n",
       "</table>\n",
       "</div>"
      ],
      "text/plain": [
       "   C (1/lambda)  Validation Accuracy\n",
       "7     10000.000             0.937251\n",
       "6      1000.000             0.937251\n",
       "5       100.000             0.937251\n",
       "4        10.000             0.937251\n",
       "3         1.000             0.936746\n",
       "2         0.100             0.937749\n",
       "1         0.010             0.928216\n",
       "0         0.001             0.872985"
      ]
     },
     "execution_count": 26,
     "metadata": {},
     "output_type": "execute_result"
    }
   ],
   "source": [
    "df.sort_values(by=['C (1/lambda)'],ascending=False)"
   ]
  },
  {
   "cell_type": "code",
   "execution_count": 27,
   "metadata": {},
   "outputs": [
    {
     "data": {
      "text/plain": [
       "Text(0, 0.5, 'weights')"
      ]
     },
     "execution_count": 27,
     "metadata": {},
     "output_type": "execute_result"
    },
    {
     "data": {
      "image/png": "[encoded data removed]",
      "text/plain": [
       "<Figure size 432x288 with 1 Axes>"
      ]
     },
     "metadata": {
      "needs_background": "light"
     },
     "output_type": "display_data"
    }
   ],
   "source": [
    "# AUC graph visualized.\n",
    "\n",
    "ax = plt.gca()\n",
    "ax.plot(df['C (1/lambda)'].values,df['Validation Accuracy'].values)\n",
    "ax.set_xscale('log')\n",
    "plt.axis('tight')\n",
    "plt.xlabel('alpha')\n",
    "plt.ylabel('weights')"
   ]
  },
  {
   "cell_type": "code",
   "execution_count": 28,
   "metadata": {},
   "outputs": [
    {
     "name": "stdout",
     "output_type": "stream",
     "text": [
      "0.9258517034068137\n"
     ]
    }
   ],
   "source": [
    "# Model fitted using training set and then test accuracy printed.\n",
    "\n",
    "logreg = LogisticRegression(C=1,penalty='l2',max_iter=10,solver='liblinear')\n",
    "logreg.fit(X_train, y_train)\n",
    "score = logreg.score(X_test, y_test)\n",
    "print(score)\n"
   ]
  },
  {
   "cell_type": "code",
   "execution_count": 29,
   "metadata": {
    "scrolled": false
   },
   "outputs": [
    {
     "name": "stdout",
     "output_type": "stream",
     "text": [
      "                                Variables  Coefficients\n",
      "0                               Intercept     -3.929717\n",
      "1                                duration      0.087237\n",
      "2                                   worry     -0.484855\n",
      "3                                   anger     -0.302832\n",
      "4                                 disgust     -0.043274\n",
      "5                                    fear      0.394130\n",
      "6                                 anxiety     -1.311718\n",
      "7                                 sadness     -0.603733\n",
      "8                               happiness      0.140154\n",
      "9                              relaxation      1.846442\n",
      "10                                 desire      0.033365\n",
      "11                    self_rating_general      0.118750\n",
      "12                  twitter_general_often      0.155940\n",
      "13                    twitter_tweet_often     -0.105049\n",
      "14              twitter_participate_often     -0.060024\n",
      "15  eng_native_No but I speak it fluently      0.064274\n",
      "16                         eng_native_Yes      0.044912\n"
     ]
    }
   ],
   "source": [
    "# Model Coefficients\n",
    "\n",
    "Model_intercept = pd.DataFrame({\"Variables\":'Intercept',\"Coefficients\":logreg.intercept_[0]},index=[0])\n",
    "Model_coefficients = pd.DataFrame({\"Variables\":X_col,\"Coefficients\":np.transpose(logreg.coef_[0])})\n",
    "Model_coefficients = pd.concat([Model_intercept,Model_coefficients]).reset_index(drop=True)\n",
    "print(Model_coefficients)"
   ]
  },
  {
   "cell_type": "code",
   "execution_count": 30,
   "metadata": {
    "scrolled": true
   },
   "outputs": [
    {
     "data": {
      "text/plain": [
       "array([1., 0., 0., 0., 1., 0., 0., 0., 1., 1., 0., 0., 0., 1., 0., 1., 1.,\n",
       "       0., 0., 0., 0., 1., 0., 0., 0., 0., 0., 0., 0., 0., 0., 0., 0., 1.,\n",
       "       1., 1., 0., 1., 1., 1., 0., 1., 0., 0., 1., 0., 1., 0., 1., 0., 1.,\n",
       "       0., 0., 1., 1., 0., 1., 1., 0., 1., 0., 0., 1., 0., 0., 0., 0., 0.,\n",
       "       0., 0., 0., 0., 1., 0., 0., 0., 0., 1., 0., 1., 0., 0., 0., 1., 0.,\n",
       "       0., 0., 0., 1., 0., 0., 0., 0., 0., 1., 0., 1., 0., 0., 0., 0., 0.,\n",
       "       0., 0., 0., 0., 0., 0., 0., 0., 0., 0., 0., 0., 0., 0., 0., 0., 0.,\n",
       "       0., 0., 0., 0., 0., 0., 0., 1., 0., 0., 0., 0., 0., 1., 1., 1., 0.,\n",
       "       0., 0., 0., 1., 0., 0., 0., 0., 0., 0., 0., 0., 0., 0., 0., 0., 1.,\n",
       "       0., 0., 1., 0., 0., 0., 0., 0., 0., 0., 1., 0., 0., 0., 0., 0., 0.,\n",
       "       1., 0., 0., 0., 1., 0., 0., 0., 0., 1., 0., 0., 0., 0., 0., 1., 0.,\n",
       "       0., 0., 1., 0., 0., 0., 0., 1., 0., 0., 1., 1., 0., 0., 0., 0., 1.,\n",
       "       0., 1., 0., 0., 0., 1., 1., 0., 0., 0., 0., 1., 0., 0., 0., 0., 0.,\n",
       "       0., 0., 0., 1., 0., 0., 0., 0., 0., 1., 0., 0., 0., 0., 0., 0., 1.,\n",
       "       0., 0., 0., 1., 0., 1., 1., 0., 0., 0., 0., 1., 0., 0., 1., 0., 0.,\n",
       "       0., 0., 0., 0., 0., 0., 0., 1., 0., 0., 0., 0., 0., 0., 0., 0., 0.,\n",
       "       0., 0., 0., 0., 1., 0., 0., 1., 0., 0., 0., 0., 1., 0., 0., 0., 0.,\n",
       "       1., 0., 1., 1., 1., 1., 1., 1., 0., 0., 0., 0., 1., 0., 0., 0., 0.,\n",
       "       0., 0., 1., 1., 1., 0., 0., 1., 0., 0., 0., 1., 0., 0., 0., 0., 1.,\n",
       "       1., 0., 0., 0., 0., 1., 0., 0., 0., 0., 0., 0., 0., 0., 1., 1., 0.,\n",
       "       0., 0., 0., 0., 0., 1., 1., 1., 0., 1., 0., 0., 0., 0., 1., 0., 0.,\n",
       "       0., 0., 0., 1., 0., 0., 0., 0., 0., 0., 0., 1., 0., 0., 0., 0., 0.,\n",
       "       0., 1., 1., 0., 0., 0., 0., 1., 0., 0., 0., 0., 0., 0., 0., 0., 0.,\n",
       "       0., 0., 1., 0., 0., 0., 0., 0., 0., 0., 1., 0., 1., 0., 0., 0., 0.,\n",
       "       0., 0., 0., 0., 1., 0., 0., 1., 0., 0., 1., 1., 1., 1., 0., 0., 1.,\n",
       "       0., 0., 0., 0., 0., 0., 1., 0., 0., 0., 0., 0., 0., 0., 0., 0., 0.,\n",
       "       0., 0., 0., 0., 0., 0., 1., 0., 0., 0., 0., 1., 0., 0., 0., 0., 0.,\n",
       "       0., 1., 0., 1., 0., 0., 0., 1., 0., 0., 0., 0., 0., 1., 0., 1., 0.,\n",
       "       0., 0., 0., 1., 0., 1., 0., 0., 0., 1., 1., 0., 1., 0., 0., 0., 0.,\n",
       "       0., 0., 0., 0., 0., 0.])"
      ]
     },
     "execution_count": 30,
     "metadata": {},
     "output_type": "execute_result"
    }
   ],
   "source": [
    "y_pred_proba = logreg.predict_proba(X_test)[::,1]\n",
    "y_pred_proba\n",
    "# treshold value is set to default value to compare the result\n",
    "# treshold value is set to %20 value\n",
    "threshold = 0.2\n",
    "y_pred = (y_pred_proba > threshold).astype(float)\n",
    "y_pred\n"
   ]
  },
  {
   "cell_type": "code",
   "execution_count": 31,
   "metadata": {
    "scrolled": true
   },
   "outputs": [
    {
     "data": {
      "image/png": "[encoded data removed]",
      "text/plain": [
       "<Figure size 432x288 with 1 Axes>"
      ]
     },
     "metadata": {
      "needs_background": "light"
     },
     "output_type": "display_data"
    }
   ],
   "source": [
    "fpr, tpr, _ = roc_curve(y_test, y_pred_proba)\n",
    "auc = roc_auc_score(y_test, y_pred_proba)\n",
    "plt.plot(fpr,tpr,label=\"data 1, auc=\"+str(auc))\n",
    "plt.legend(loc=4)\n",
    "plt.show()"
   ]
  },
  {
   "cell_type": "code",
   "execution_count": 33,
   "metadata": {},
   "outputs": [
    {
     "data": {
      "image/png": "[encoded data removed]",
      "text/plain": [
       "<Figure size 432x288 with 2 Axes>"
      ]
     },
     "metadata": {
      "needs_background": "light"
     },
     "output_type": "display_data"
    }
   ],
   "source": [
    "# Confusion matrix plotted.\n",
    "\n",
    "plot_confusion_matrix(logreg, X_test, y_test)  \n",
    "plt.show()  "
   ]
  },
  {
   "cell_type": "markdown",
   "metadata": {},
   "source": [
    "## DECISION TREE"
   ]
  },
  {
   "cell_type": "code",
   "execution_count": 34,
   "metadata": {},
   "outputs": [],
   "source": [
    "from sklearn.tree import DecisionTreeClassifier\n"
   ]
  },
  {
   "cell_type": "code",
   "execution_count": 35,
   "metadata": {},
   "outputs": [
    {
     "data": {
      "text/plain": [
       "[0.0, 0.02, 0.05, 0.08, 0.1]"
      ]
     },
     "execution_count": 35,
     "metadata": {},
     "output_type": "execute_result"
    }
   ],
   "source": [
    "[round(x,2) for x in np.linspace(start = 0, stop = 0.1, num =5 )]"
   ]
  },
  {
   "cell_type": "code",
   "execution_count": 36,
   "metadata": {},
   "outputs": [],
   "source": [
    "# Number of trees in decision tree.\n",
    "max_depth = [int(x) for x in np.linspace(start = 3, stop = 10, num =8 )]\n",
    "\n",
    "# Number of features to consider at every split.\n",
    "ccp_alpha =  [round(x,2) for x in np.linspace(start = 0, stop = 0.1, num =5 )]\n"
   ]
  },
  {
   "cell_type": "code",
   "execution_count": 37,
   "metadata": {},
   "outputs": [
    {
     "name": "stdout",
     "output_type": "stream",
     "text": [
      "{'max_depth': [3, 4, 5, 6, 7, 8, 9, 10], 'ccp_alpha': [0.0, 0.02, 0.05, 0.08, 0.1]}\n"
     ]
    }
   ],
   "source": [
    "param_grid = {'max_depth': max_depth,\n",
    "               'ccp_alpha': ccp_alpha}\n",
    "print(param_grid)"
   ]
  },
  {
   "cell_type": "code",
   "execution_count": 38,
   "metadata": {},
   "outputs": [],
   "source": [
    "dtc_Model = DecisionTreeClassifier()"
   ]
  },
  {
   "cell_type": "code",
   "execution_count": 39,
   "metadata": {},
   "outputs": [],
   "source": [
    "#I CALLED GRID CV TO DEFINE MY HYPERPARAMETER TUNING\n",
    "from sklearn.model_selection import GridSearchCV\n",
    "dtc_Grid = GridSearchCV(estimator = dtc_Model, param_grid = param_grid, cv = 5, verbose=2, n_jobs = -1)"
   ]
  },
  {
   "cell_type": "code",
   "execution_count": 40,
   "metadata": {
    "scrolled": true
   },
   "outputs": [
    {
     "name": "stdout",
     "output_type": "stream",
     "text": [
      "Fitting 5 folds for each of 40 candidates, totalling 200 fits\n"
     ]
    },
    {
     "name": "stderr",
     "output_type": "stream",
     "text": [
      "[Parallel(n_jobs=-1)]: Using backend LokyBackend with 8 concurrent workers.\n",
      "[Parallel(n_jobs=-1)]: Done  25 tasks      | elapsed:    9.9s\n",
      "[Parallel(n_jobs=-1)]: Done 200 out of 200 | elapsed:   10.9s finished\n"
     ]
    },
    {
     "data": {
      "text/plain": [
       "GridSearchCV(cv=5, estimator=DecisionTreeClassifier(), n_jobs=-1,\n",
       "             param_grid={'ccp_alpha': [0.0, 0.02, 0.05, 0.08, 0.1],\n",
       "                         'max_depth': [3, 4, 5, 6, 7, 8, 9, 10]},\n",
       "             verbose=2)"
      ]
     },
     "execution_count": 40,
     "metadata": {},
     "output_type": "execute_result"
    }
   ],
   "source": [
    "dtc_Grid.fit(X_train, y_train)"
   ]
  },
  {
   "cell_type": "code",
   "execution_count": 41,
   "metadata": {},
   "outputs": [
    {
     "data": {
      "text/plain": [
       "{'ccp_alpha': 0.0, 'max_depth': 4}"
      ]
     },
     "execution_count": 41,
     "metadata": {},
     "output_type": "execute_result"
    }
   ],
   "source": [
    "dtc_Grid.best_params_\n",
    "#OUR BEST PARAMETERS WITHIN 900 FITS\n",
    "dtc_Grid.best_params_"
   ]
  },
  {
   "cell_type": "code",
   "execution_count": 42,
   "metadata": {},
   "outputs": [
    {
     "name": "stdout",
     "output_type": "stream",
     "text": [
      "Train Accuracy  : 0.949\n",
      "Test Accuracy  : 0.924\n"
     ]
    }
   ],
   "source": [
    "print (f'Train Accuracy  : {dtc_Grid.score(X_train,y_train):.3f}')\n",
    "print (f'Test Accuracy  : {dtc_Grid.score(X_test,y_test):.3f}')\n",
    "#BEST SCORE"
   ]
  },
  {
   "cell_type": "code",
   "execution_count": 43,
   "metadata": {
    "scrolled": true
   },
   "outputs": [
    {
     "name": "stdout",
     "output_type": "stream",
     "text": [
      "DecisionTreeClassifier(max_depth=4, random_state=0)\n",
      "\n",
      "\n",
      "Root Mean Squared Error on train set: 0.2262848189276259\n",
      "Root Mean Squared Error on test set: 0.2759570702287195\n",
      "Mean of y_train: 0.1601766358892011\n"
     ]
    }
   ],
   "source": [
    "from sklearn.ensemble import RandomForestClassifier\n",
    "\n",
    "model = DecisionTreeClassifier(ccp_alpha= dtc_Grid.best_params_[\"ccp_alpha\"], max_depth= dtc_Grid.best_params_[\"max_depth\"], random_state=0)\n",
    "\n",
    "\n",
    "model.fit(X_train, y_train)\n",
    "print(model)\n",
    "\n",
    "y_train_predicted = model.predict(X_train)\n",
    "RMSE_train = np.sqrt(metrics.mean_squared_error(y_train, y_train_predicted))\n",
    "y_test_predicted = model.predict(X_test)\n",
    "RMSE_test = np.sqrt(metrics.mean_squared_error(y_test, y_test_predicted))\n",
    "\n",
    "print('\\n\\nRoot Mean Squared Error on train set:', RMSE_train)\n",
    "print('Root Mean Squared Error on test set:', RMSE_test)\n",
    "print('Mean of y_train:', float(y.mean()))"
   ]
  },
  {
   "cell_type": "code",
   "execution_count": 44,
   "metadata": {},
   "outputs": [
    {
     "data": {
      "image/png": "[encoded data removed]",
      "text/plain": [
       "<Figure size 432x288 with 2 Axes>"
      ]
     },
     "metadata": {
      "needs_background": "light"
     },
     "output_type": "display_data"
    }
   ],
   "source": [
    "import matplotlib.pyplot as plt  \n",
    "from sklearn.datasets import make_classification\n",
    "from sklearn.metrics import plot_confusion_matrix\n",
    "from sklearn.model_selection import train_test_split\n",
    "plot_confusion_matrix(logreg, X_test, y_test)  \n",
    "plt.show()  "
   ]
  },
  {
   "cell_type": "markdown",
   "metadata": {},
   "source": [
    "## RANDOM FOREST"
   ]
  },
  {
   "cell_type": "code",
   "execution_count": 45,
   "metadata": {},
   "outputs": [],
   "source": [
    "# Number of trees in random forest.\n",
    "n_estimators = [int(x) for x in np.linspace(start = 10, stop = 100, num = 10)]\n",
    "\n",
    "# Number of features to consider at every split.\n",
    "max_features = ['auto', 'sqrt', \"log2\"]\n",
    "\n",
    "# Minimum number of samples required at each leaf node.\n",
    "min_samples_leaf = [1, 5, 10]\n",
    "\n",
    "# Method of selecting samples for training each tree.\n",
    "bootstrap = [True, False]"
   ]
  },
  {
   "cell_type": "code",
   "execution_count": 46,
   "metadata": {},
   "outputs": [
    {
     "name": "stdout",
     "output_type": "stream",
     "text": [
      "{'n_estimators': [10, 20, 30, 40, 50, 60, 70, 80, 90, 100], 'max_features': ['auto', 'sqrt', 'log2'], 'min_samples_leaf': [1, 5, 10], 'bootstrap': [True, False]}\n"
     ]
    }
   ],
   "source": [
    "param_grid = {'n_estimators': n_estimators,\n",
    "               'max_features': max_features,\n",
    "               'min_samples_leaf': min_samples_leaf,\n",
    "               'bootstrap': bootstrap}\n",
    "print(param_grid)"
   ]
  },
  {
   "cell_type": "code",
   "execution_count": 47,
   "metadata": {},
   "outputs": [],
   "source": [
    "rf_Model = RandomForestClassifier()"
   ]
  },
  {
   "cell_type": "code",
   "execution_count": 48,
   "metadata": {},
   "outputs": [],
   "source": [
    "#I CALLED GRID CV TO DEFINE MY HYPERPARAMETER TUNING\n",
    "from sklearn.model_selection import GridSearchCV\n",
    "rf_Grid = GridSearchCV(estimator = rf_Model, param_grid = param_grid, cv = 5, verbose=2, n_jobs = -1)"
   ]
  },
  {
   "cell_type": "code",
   "execution_count": 49,
   "metadata": {},
   "outputs": [],
   "source": [
    "#OUR BEST PARAMETERS WITHIN 900 FITS"
   ]
  },
  {
   "cell_type": "code",
   "execution_count": 50,
   "metadata": {
    "scrolled": true
   },
   "outputs": [
    {
     "name": "stdout",
     "output_type": "stream",
     "text": [
      "Fitting 5 folds for each of 180 candidates, totalling 900 fits\n"
     ]
    },
    {
     "name": "stderr",
     "output_type": "stream",
     "text": [
      "[Parallel(n_jobs=-1)]: Using backend LokyBackend with 8 concurrent workers.\n",
      "[Parallel(n_jobs=-1)]: Done  25 tasks      | elapsed:    1.4s\n",
      "[Parallel(n_jobs=-1)]: Done 146 tasks      | elapsed:   11.7s\n",
      "[Parallel(n_jobs=-1)]: Done 349 tasks      | elapsed:   27.6s\n",
      "[Parallel(n_jobs=-1)]: Done 632 tasks      | elapsed:   46.4s\n",
      "[Parallel(n_jobs=-1)]: Done 900 out of 900 | elapsed:  1.0min finished\n"
     ]
    },
    {
     "data": {
      "text/plain": [
       "GridSearchCV(cv=5, estimator=RandomForestClassifier(), n_jobs=-1,\n",
       "             param_grid={'bootstrap': [True, False],\n",
       "                         'max_features': ['auto', 'sqrt', 'log2'],\n",
       "                         'min_samples_leaf': [1, 5, 10],\n",
       "                         'n_estimators': [10, 20, 30, 40, 50, 60, 70, 80, 90,\n",
       "                                          100]},\n",
       "             verbose=2)"
      ]
     },
     "execution_count": 50,
     "metadata": {},
     "output_type": "execute_result"
    }
   ],
   "source": [
    "rf_Grid.fit(X_train, y_train)"
   ]
  },
  {
   "cell_type": "code",
   "execution_count": 51,
   "metadata": {
    "scrolled": false
   },
   "outputs": [
    {
     "data": {
      "text/plain": [
       "{'bootstrap': True,\n",
       " 'max_features': 'log2',\n",
       " 'min_samples_leaf': 5,\n",
       " 'n_estimators': 20}"
      ]
     },
     "execution_count": 51,
     "metadata": {},
     "output_type": "execute_result"
    }
   ],
   "source": [
    "rf_Grid.best_params_\n",
    "#OUR BEST PARAMETERS WITHIN 900 FITS\n",
    "rf_Grid.best_params_"
   ]
  },
  {
   "cell_type": "code",
   "execution_count": 52,
   "metadata": {},
   "outputs": [
    {
     "name": "stdout",
     "output_type": "stream",
     "text": [
      "Train Accuracy  : 0.959\n",
      "Test Accuracy  : 0.930\n"
     ]
    }
   ],
   "source": [
    "print (f'Train Accuracy  : {rf_Grid.score(X_train,y_train):.3f}')\n",
    "print (f'Test Accuracy  : {rf_Grid.score(X_test,y_test):.3f}')\n",
    "#BEST SCORE"
   ]
  },
  {
   "cell_type": "code",
   "execution_count": 53,
   "metadata": {},
   "outputs": [
    {
     "name": "stdout",
     "output_type": "stream",
     "text": [
      "RandomForestClassifier(max_features='log2', min_samples_leaf=5, n_estimators=20,\n",
      "                       random_state=0)\n"
     ]
    }
   ],
   "source": [
    "# Model fitted using Random Forest Classifier\n",
    "\n",
    "from sklearn.ensemble import RandomForestClassifier\n",
    "\n",
    "model = RandomForestClassifier(n_estimators= rf_Grid.best_params_[\"n_estimators\"], max_features= 'log2',min_samples_leaf= rf_Grid.best_params_[\"min_samples_leaf\"], random_state=0)\n",
    "\n",
    "\n",
    "model.fit(X_train, y_train)\n",
    "print(model)\n"
   ]
  },
  {
   "cell_type": "code",
   "execution_count": 54,
   "metadata": {},
   "outputs": [
    {
     "data": {
      "image/png": "[encoded data removed]",
      "text/plain": [
       "<Figure size 432x288 with 2 Axes>"
      ]
     },
     "metadata": {
      "needs_background": "light"
     },
     "output_type": "display_data"
    }
   ],
   "source": [
    "# Confusion matrix plotted.\n",
    "\n",
    "plot_confusion_matrix(model, X_test, y_test)  \n",
    "plt.show()  "
   ]
  }
 ],
 "metadata": {
  "kernelspec": {
   "display_name": "Python 3",
   "language": "python",
   "name": "python3"
  },
  "language_info": {
   "codemirror_mode": {
    "name": "ipython",
    "version": 3
   },
   "file_extension": ".py",
   "mimetype": "text/x-python",
   "name": "python",
   "nbconvert_exporter": "python",
   "pygments_lexer": "ipython3",
   "version": "3.8.3"
  }
 },
 "nbformat": 4,
 "nbformat_minor": 4
}
